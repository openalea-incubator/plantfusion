{
 "cells": [
  {
   "cell_type": "markdown",
   "id": "b4197c52",
   "metadata": {},
   "source": [
    "# Utilisation d'un nouveau FSPM avec PlantFusion\n",
    "\n",
    "On propose d'intégrer un nouveau FSPM, écrit en lpy, avec PlantFusion. Il s'agit d'un modèle expansion simple, tiré de l'exercice 10 des TD impulse de Gaëtan.\n",
    "\n",
    "Dans ce notebook, on va construire une interface ou wrapper ou façade, à ce modèle pour le connecter avec les modèles de lumière, de sol et même le planter."
   ]
  },
  {
   "cell_type": "markdown",
   "id": "fe261e35",
   "metadata": {},
   "source": [
    "## Premier test du FSPM seul\n",
    "\n",
    "Notre FSPM se prénomme sobrement \"plante rampante\". La plante part d'une origine et fait une expansion à chaque pas de temps en fonction de la lumière captée. \n",
    "\n",
    "Une procédure pour faire varier la quantité de racine est implémentée pour l'exercice, mais biologiquement fausse."
   ]
  },
  {
   "cell_type": "code",
   "execution_count": null,
   "id": "5a2ed776",
   "metadata": {},
   "outputs": [],
   "source": [
    "# Notre FSPM est codé en lpy\n",
    "from openalea.lpy import *\n",
    "import openalea.lpy as lpy\n",
    "\n",
    "# pour la visualisation\n",
    "from pgljupyter import LsystemWidget, SceneWidget"
   ]
  },
  {
   "cell_type": "code",
   "execution_count": null,
   "id": "ad97c142",
   "metadata": {},
   "outputs": [],
   "source": [
    "name_lsystem = 'plante_rampante_aerien.lpy' \n",
    "lsystem = lpy.Lsystem(name_lsystem)\n",
    "\n",
    "# simulation avec couplage lumiere\n",
    "lsystem.opt_external_coupling = 0\n",
    "\n",
    "LsystemWidget(name_lsystem, unit='cm',size_world=0.2, animate=True)"
   ]
  },
  {
   "cell_type": "markdown",
   "id": "d6245049",
   "metadata": {},
   "source": [
    "## Interfaçage\n",
    "\n",
    "Notre wrapper va prendre la forme d'une classe. La structure générique d'une façade pour un FSPM doit avoir la forme:\n",
    "\n",
    "```python\n",
    "class FSPM_wrapper:\n",
    "    def __init__(self, *arg) -> None:\n",
    "        \"\"\"\n",
    "        Constructeur de l'instance, initialise le FSPM avec des préconfigurations\n",
    "        \n",
    "        \"\"\"\n",
    "        \n",
    "    \n",
    "    def light_inputs(self, *arg):\n",
    "        \"\"\"\n",
    "        Renvoie une scène géométrique sous l'une de ces formes :\n",
    "            - Scène PlantGL\n",
    "            - MTG adelwheat\n",
    "            - chemin d'un fichier VGX\n",
    "            - dict de triangles rangés par organe\n",
    "            - grille de voxels\n",
    "        \n",
    "        pour plus d'information : https://lightvegemanager.readthedocs.io/en/latest/inputs.html#scenes\n",
    "        \"\"\"\n",
    "        \n",
    "    \n",
    "    def light_results(self, light_results, *arg) -> None:\n",
    "        \"\"\"\n",
    "        Interprète les résultats de l'ensoleillement\n",
    "        \n",
    "        light_results : pandas.Dataframe\n",
    "        \"\"\"\n",
    "        \n",
    "    \n",
    "    def soil_inputs(self, *arg):\n",
    "        \"\"\"\n",
    "        Renvoie 4 tableaux :\n",
    "            - teneur en N dans les racines pour chaque plante ([0, 1])\n",
    "            - longeur des racines (en m) par plante et par voxel du sol\n",
    "            - paramètres variétaux\n",
    "            - capacité d'interception de la lumière par plante en fonction du couvert ([0, 1])\n",
    "        \"\"\"\n",
    "        \n",
    "    \n",
    "    def soil_results(self, soil_results, *arg) -> None:\n",
    "        \"\"\"\n",
    "        Interprète un ou plusieurs des 3 tableaux résutlats de soil3ds :\n",
    "            - uptake N pour chaque plante (kg)\n",
    "            - fraction d'eau disponible pour la transpiration par plante [0, 1]\n",
    "            - quantite d'eau transpiree au temps t par plante (mm)\n",
    "        \"\"\"\n",
    "        \n",
    "    \n",
    "    def run(self, *arg) -> None:\n",
    "        \"\"\"\n",
    "        Encapsule les procédures non couplées (indépendantes) du FSPM\n",
    "        \n",
    "        \"\"\"\n",
    "        \n",
    "    \n",
    "    def end(self, *arg):\n",
    "        \"\"\"\n",
    "        Optionnel\n",
    "        \n",
    "        Donne des instructions pour terminer la simulation au FSPM\n",
    "        \n",
    "        \"\"\"\n",
    "\n",
    "```"
   ]
  },
  {
   "cell_type": "code",
   "execution_count": null,
   "id": "7ab70def",
   "metadata": {},
   "outputs": [],
   "source": [
    "# les deux outils pratiques de PlantFusion\n",
    "from plantfusion.planter import Planter\n",
    "from plantfusion.indexer import Indexer\n",
    "\n",
    "# le module python associé à notre FSPM\n",
    "from plante_rampante_functions import *"
   ]
  },
  {
   "cell_type": "markdown",
   "id": "9a6154da",
   "metadata": {},
   "source": [
    "### Structure initiale de l'interface\n",
    "\n",
    "On ajoute en plus une méthode ``derive`` liée à la particulité de lpy à dériver en début d'itération. En effet, les points de couplage doivent se trouver dans la section ``EndEach``."
   ]
  },
  {
   "cell_type": "code",
   "execution_count": null,
   "id": "79f24ebc",
   "metadata": {},
   "outputs": [],
   "source": [
    "class PlanteRampante_Wrapper:\n",
    "    def __init__(self, name=\"rampante\", planter=Planter(), indexer=Indexer()) -> None:\n",
    "        \"\"\"Initialisation de l'interface\n",
    "\n",
    "        Parameters\n",
    "        ----------\n",
    "        name : string\n",
    "            nom personnalisé de notre instance de PlanteRampante\n",
    "        planter : Planter, optional\n",
    "            un planter pour récupère les dimensions xy du sol, by default Planter()\n",
    "        indexer : Indexer, optional\n",
    "            un indexer pour anticiper des simulations avec d'autres FSPM, by default Indexer()\n",
    "        \"\"\" \n",
    "        \n",
    "        self.name = \"plantrampante\"\n",
    "        self.name_lsystem = 'plante_rampante_aerien.lpy' \n",
    "        self.lsystem = lpy.Lsystem(self.name_lsystem)\n",
    "\n",
    "        self.indexer = indexer\n",
    "        if indexer.global_order != [] :\n",
    "            self.global_index = indexer.global_order.index(name)\n",
    "        else:\n",
    "            self.global_index = 0\n",
    "\n",
    "        self.nb_plant = 1\n",
    "\n",
    "        self.soilsurf = (planter.domain[1][0] - planter.domain[0][0]) ** 2\n",
    "\n",
    "        # simulation avec couplage lumiere\n",
    "        self.lsystem.opt_external_coupling = 1\n",
    "\n",
    "        self.lstring = self.lsystem.axiom\n",
    "        \n",
    "        self.data_results = {\"dMS\" : [], \"dMSRoot\" : [], \"epsi\" : [], \"roots_length\" : [], \"t\" : []}\n"
   ]
  },
  {
   "cell_type": "code",
   "execution_count": null,
   "id": "4768f80d",
   "metadata": {},
   "outputs": [],
   "source": [
    "class PlanteRampante_Wrapper(PlanteRampante_Wrapper):\n",
    "    def derive(self, t):\n",
    "        \"\"\"Dérivation d'une itération\n",
    "\n",
    "        Parameters\n",
    "        ----------\n",
    "        t : int\n",
    "            pas de temps\n",
    "        \"\"\"        \n",
    "        \n",
    "        self.lstring = self.lsystem.derive(self.lstring, t, 1)\n",
    "        self.data_results[\"t\"].append(t)"
   ]
  },
  {
   "cell_type": "markdown",
   "id": "0f053d96",
   "metadata": {},
   "source": [
    "### Gestion de la lumière"
   ]
  },
  {
   "cell_type": "markdown",
   "id": "074cb4cf",
   "metadata": {},
   "source": [
    "Scène géométrique pour calculer un ensoleillement. Dans lpy, la scène géométrique est contenue dans la section ``interpretation``."
   ]
  },
  {
   "cell_type": "code",
   "execution_count": null,
   "id": "08416084",
   "metadata": {},
   "outputs": [],
   "source": [
    "class PlanteRampante_Wrapper(PlanteRampante_Wrapper):\n",
    "    def light_inputs(self):\n",
    "        \"\"\"\n",
    "        Renvoie une scène géométrique sous l'une de ces formes :\n",
    "            - Scène PlantGL\n",
    "            - MTG adelwheat\n",
    "            - chemin d'un fichier VGX\n",
    "            - dict de triangles rangés par organe\n",
    "            - grille de voxels\n",
    "        \n",
    "        pour plus d'information : https://lightvegemanager.readthedocs.io/en/latest/inputs.html#scenes\n",
    "        \"\"\"\n",
    "        return self.lsystem.sceneInterpretation(self.lstring)"
   ]
  },
  {
   "cell_type": "code",
   "execution_count": null,
   "id": "22d90861",
   "metadata": {
    "scrolled": true
   },
   "outputs": [],
   "source": [
    "# test de visualisation du point de départ\n",
    "plane = ((-1., -1.), (0.1, 0.1))\n",
    "planter = Planter(xy_plane=plane)\n",
    "rampante = PlanteRampante_Wrapper(planter=planter)\n",
    "\n",
    "# visualisation\n",
    "SceneWidget(rampante.light_inputs(), \n",
    "                position=(0.0, 0.0, 0.0), \n",
    "                size_display=(600, 400), \n",
    "                plane=True, \n",
    "                size_world=2., \n",
    "                axes_helper=True)"
   ]
  },
  {
   "cell_type": "markdown",
   "id": "d3eb1bc2",
   "metadata": {},
   "source": [
    "Le tableau résultat prend la forme \n",
    "\n",
    "pour CARIBU:\n",
    "\n",
    "| \"Day\" | \"Hour\" | \"Organ\" | \"VegetationType\" | \"Area\" | \"par Eabs\" | \"par Ei\" |\n",
    "| --- | --- | --- | --- | --- | --- | --- |\n",
    "\n",
    "pour RATP:\n",
    "\n",
    "| \"Day\" | \"Hour\" | \"Organ\" | \"VegetationType\" | \"Area\" | \"PARa\" | \"Intercepted\" | \"Transmitted\" |\n",
    "| --- | --- | --- | --- | --- | --- | --- | --- |\n",
    "\n",
    "\n",
    "\n",
    "\n",
    "On ajoute les étapes calcul de l'assimiliation du carbone et calcul de l'interception des plantes car ces données seront utilisés par le traitement du sol."
   ]
  },
  {
   "cell_type": "code",
   "execution_count": null,
   "id": "a4b69126",
   "metadata": {},
   "outputs": [],
   "source": [
    "class PlanteRampante_Wrapper(PlanteRampante_Wrapper):\n",
    "    def light_results(self, light_results_per_organ, energy) -> None:\n",
    "        \"\"\"\n",
    "        Interprète les résultats de l'ensoleillement\n",
    "        \n",
    "        light_results_per_organ : pandas.Dataframe\n",
    "        energy :\n",
    "        \n",
    "        aggregated_out = {\n",
    "            \"default_band\": {\n",
    "                     \"Eabs\" : { indice_organe : \"par Eabs\"} \n",
    "                     \"Ei\" :    { indice_organe : \"par Ei\"}\n",
    "                     \"area\" : {indice_rogane : area_i}\n",
    "            }\n",
    "        }\n",
    "        \"\"\"\n",
    "        organs_par = { \"default_band\" : { \"Eabs\" : {} , \"Ei\" : {}, \"area\" : {} } }\n",
    "        \n",
    "        df_filtered = light_results_per_organ[light_results_per_organ.VegetationType == self.global_index]\n",
    "        for i in range(len(df_filtered)):\n",
    "            organs_par[\"default_band\"][\"Eabs\"][df_filtered.loc[i, \"Organ\"]] = df_filtered.loc[i, \"par Eabs\"]\n",
    "            organs_par[\"default_band\"][\"Ei\"][df_filtered.loc[i, \"Organ\"]] = df_filtered.loc[i, \"par Ei\"]\n",
    "            organs_par[\"default_band\"][\"area\"][df_filtered.loc[i, \"Organ\"]] = df_filtered.loc[i, \"Area\"]\n",
    "        \n",
    "        self.lstring, self.cumlight, ls_par = update_light_lstring(self.lstring, organs_par)\n",
    "\n",
    "        #Carbon assimilation and allocation\n",
    "        self.dMS = CarbonAssimilation(self.cumlight, energy, self.lsystem.RUE, self.lsystem.FTSW, Soilsurf=self.soilsurf)\n",
    "\n",
    "        # plant light interception\n",
    "        epsi =  self.cumlight / self.soilsurf\n",
    "        self.ls_epsi = [epsi] * self.nb_plant # partage identique entre plantes"
   ]
  },
  {
   "cell_type": "code",
   "execution_count": null,
   "id": "360f7cda",
   "metadata": {},
   "outputs": [],
   "source": [
    "import pandas\n",
    "\n",
    "# test avec un tableau fictif\n",
    "lighting = {\"Day\" : [1], \n",
    "            \"Hour\" : [12],  \n",
    "            \"Organ\": [2], # indice de la graine\n",
    "            \"VegetationType\": [0], \n",
    "            \"Area\" : [1.], \n",
    "            \"par Eabs\" : [0.5], \n",
    "            \"par Ei\" : [0.5]}\n",
    "lighting_df = pandas.DataFrame(lighting)\n",
    "\n",
    "# création d'une instance\n",
    "plane = ((-1., -1.), (0.1, 0.1))\n",
    "planter = Planter(xy_plane=plane)\n",
    "rampante = PlanteRampante_Wrapper(planter=planter)\n",
    "rampante.derive(0)\n",
    "\n",
    "energy = 1.\n",
    "rampante.light_results(lighting_df, energy)\n",
    "\n",
    "# aucune feuille pour le moment\n",
    "print(rampante.cumlight)"
   ]
  },
  {
   "cell_type": "code",
   "execution_count": null,
   "id": "da0f07dd",
   "metadata": {},
   "outputs": [],
   "source": [
    "import pandas\n",
    "\n",
    "# test avec un tableau fictif\n",
    "lighting = {\"Day\" : [1], \n",
    "            \"Hour\" : [12],  \n",
    "            \"Organ\": [2], # indice de la graine\n",
    "            \"VegetationType\": [0], \n",
    "            \"Area\" : [1.], \n",
    "            \"par Eabs\" : [0.5], \n",
    "            \"par Ei\" : [0.5]}\n",
    "light_results_per_organ = pandas.DataFrame(lighting)\n",
    "light_results_per_organ"
   ]
  },
  {
   "cell_type": "markdown",
   "id": "dcc0ae24",
   "metadata": {},
   "source": [
    "### Gestion du sol\n",
    "\n",
    "Ici, la teneur en azote des racines est statique et est initialisée dans le lsystem. Les paramètres variétaux liés au sol sont des valeurs par défaut donné par soil3ds et initialisées dans le lsystem."
   ]
  },
  {
   "cell_type": "code",
   "execution_count": null,
   "id": "f6ad37b2",
   "metadata": {},
   "outputs": [],
   "source": [
    "class PlanteRampante_Wrapper(PlanteRampante_Wrapper):\n",
    "    def soil_inputs(self, soil_wrapper):\n",
    "        \"\"\"\n",
    "        Renvoie 4 tableaux :\n",
    "            - teneur en N dans les racines pour chaque plante ([0, 1])\n",
    "            - longeur des racines (en m) par plante et par voxel du sol\n",
    "            - paramètres variétaux\n",
    "            - capacité d'interception de la lumière par plante en fonction du couvert ([0, 1])\n",
    "        \"\"\"\n",
    "        self.roots_length = self.lsystem.roots_length\n",
    "        \n",
    "        roots_length_per_plant_per_soil_layer = roots_length_repartition(self.roots_length, \n",
    "                                                                        self.lsystem.carto, \n",
    "                                                                        soil_wrapper.soil.dxyz[0][0], \n",
    "                                                                        soil_wrapper.soil.origin, \n",
    "                                                                        soil_wrapper.soil_dimensions)\n",
    "\n",
    "        N_content_roots_per_plant = self.lsystem.ls_N\n",
    "        plants_soil_parameters = self.lsystem.ParamPN\n",
    "        plants_light_interception = self.ls_epsi\n",
    "\n",
    "        return (\n",
    "            N_content_roots_per_plant,\n",
    "            roots_length_per_plant_per_soil_layer,\n",
    "            plants_soil_parameters,\n",
    "            plants_light_interception,\n",
    "        )"
   ]
  },
  {
   "cell_type": "code",
   "execution_count": null,
   "id": "0aae2826",
   "metadata": {},
   "outputs": [],
   "source": [
    "# impression des listes\n",
    "plane = ((-1., -1.), (0.1, 0.1))\n",
    "planter = Planter(xy_plane=plane)\n",
    "\n",
    "# création d'un sol test\n",
    "from plantfusion.soil_wrapper import Soil_wrapper\n",
    "soil = Soil_wrapper(in_folder=\"soil3ds_inputs\", IDusm=1, planter=planter)\n",
    "\n",
    "# création d'une instance\n",
    "rampante = PlanteRampante_Wrapper(planter=planter)\n",
    "\n",
    "# initialise l'interception de la plante pour éviter le calcul de lumière\n",
    "rampante.ls_epsi = [0.1]\n",
    "\n",
    "(N_content_roots_per_plant,\n",
    "roots_length_per_plant_per_soil_layer,\n",
    "plants_soil_parameters,\n",
    "plants_light_interception) = rampante.soil_inputs(soil)\n",
    "\n",
    "print(N_content_roots_per_plant)\n",
    "print(roots_length_per_plant_per_soil_layer)\n",
    "print(plants_soil_parameters)\n",
    "print(plants_light_interception)"
   ]
  },
  {
   "cell_type": "code",
   "execution_count": null,
   "id": "bf8cd1b1",
   "metadata": {},
   "outputs": [],
   "source": [
    "class PlanteRampante_Wrapper(PlanteRampante_Wrapper):\n",
    "    def soil_results(self, uptakeN_per_plant) -> None:\n",
    "        \"\"\"\n",
    "        Interprète le tableau uptake N pour chaque plante (kg)\n",
    "        \"\"\"\n",
    "        self.uptakeN = numpy.sum(uptakeN_per_plant[0])\n",
    "        self.roots_length = growth_roots(self.roots_length, self.uptakeN, self.dMS)"
   ]
  },
  {
   "cell_type": "code",
   "execution_count": null,
   "id": "fa46011a",
   "metadata": {},
   "outputs": [],
   "source": [
    "# vérification\n",
    "\n",
    "# un petit planter\n",
    "plane = ((-1., -1.), (0.1, 0.1))\n",
    "planter = Planter(xy_plane=plane)\n",
    "\n",
    "# création d'une instance\n",
    "rampante = PlanteRampante_Wrapper(planter=planter)\n",
    "\n",
    "# initialise cette variable pour éviter d'appeler derive\n",
    "rampante.roots_length = 1.\n",
    "rampante.dMS = 0.\n",
    "\n",
    "uptakeN_per_plant = numpy.ones([2, 2, 2]) * 1.2\n",
    "rampante.soil_results(uptakeN_per_plant)\n",
    "\n",
    "print(rampante.roots_length)"
   ]
  },
  {
   "cell_type": "markdown",
   "id": "4fdee2a9",
   "metadata": {},
   "source": [
    "### Complète l'interface\n",
    "On ajoute des méthodes ``run`` et ``end`` à titre d'exmple. Ici, ``run`` transmets les grandeurs calculées au lsystem et ``end`` affiche dans un tableau toutes les grandeurs de la simulation"
   ]
  },
  {
   "cell_type": "code",
   "execution_count": null,
   "id": "d46e4ccc",
   "metadata": {},
   "outputs": [],
   "source": [
    "class PlanteRampante_Wrapper(PlanteRampante_Wrapper):\n",
    "    def run(self):\n",
    "        self.lsystem.MS += self.dMS\n",
    "        self.dMSRoot = self.dMS * self.lsystem.AllocRoot\n",
    "\n",
    "        self.lsystem.root_length = self.roots_length\n",
    "        self.lsystem.ls_epsi = self.ls_epsi\n",
    "\n",
    "        self.data_results[\"dMS\"].append(self.dMS)\n",
    "        self.data_results[\"dMSRoot\"].append(self.dMSRoot)\n",
    "        self.data_results[\"epsi\"].append(numpy.sum(self.ls_epsi))\n",
    "        self.data_results[\"roots_length\"].append(self.roots_length)\n",
    "\n",
    "    def end(self):\n",
    "        print(pandas.DataFrame(self.data_results))"
   ]
  },
  {
   "cell_type": "markdown",
   "id": "9fa2553e",
   "metadata": {},
   "source": [
    "## Premier essai avec PlantFusion"
   ]
  },
  {
   "cell_type": "code",
   "execution_count": null,
   "id": "7d31cd45",
   "metadata": {},
   "outputs": [],
   "source": [
    "# import des modules nécesssaires\n",
    "from plantfusion.indexer import Indexer\n",
    "from plantfusion.light_wrapper import Light_wrapper\n",
    "from plantfusion.soil_wrapper import Soil_wrapper\n",
    "from plantfusion.planter import Planter"
   ]
  },
  {
   "cell_type": "markdown",
   "id": "8ccdd5a5",
   "metadata": {},
   "source": [
    "#### initialisation des modules"
   ]
  },
  {
   "cell_type": "markdown",
   "id": "89dc207b",
   "metadata": {},
   "source": [
    "1) Indexer"
   ]
  },
  {
   "cell_type": "code",
   "execution_count": null,
   "id": "7857aba9",
   "metadata": {},
   "outputs": [],
   "source": [
    "name = \"planterampante\"\n",
    "indexer = Indexer(global_order=[name], \n",
    "                  other_names=[name])"
   ]
  },
  {
   "cell_type": "markdown",
   "id": "ea2dca42",
   "metadata": {},
   "source": [
    "2) Planter"
   ]
  },
  {
   "cell_type": "code",
   "execution_count": null,
   "id": "ca61b192",
   "metadata": {},
   "outputs": [],
   "source": [
    "plane = ((-1., -1.), (0.1, 0.1))\n",
    "planter = Planter(xy_plane=plane)"
   ]
  },
  {
   "cell_type": "markdown",
   "id": "09413a89",
   "metadata": {},
   "source": [
    "3) façade de notre FSPM"
   ]
  },
  {
   "cell_type": "code",
   "execution_count": null,
   "id": "69c7d8b5",
   "metadata": {},
   "outputs": [],
   "source": [
    "rampante = PlanteRampante_Wrapper(name, planter, indexer)"
   ]
  },
  {
   "cell_type": "markdown",
   "id": "e7507056",
   "metadata": {},
   "source": [
    "4) Lumière"
   ]
  },
  {
   "cell_type": "code",
   "execution_count": null,
   "id": "24fa07b9",
   "metadata": {},
   "outputs": [],
   "source": [
    "light = Light_wrapper(lightmodel=\"caribu\", planter=planter, infinite=True)"
   ]
  },
  {
   "cell_type": "markdown",
   "id": "191fb36d",
   "metadata": {},
   "source": [
    "5) Sol"
   ]
  },
  {
   "cell_type": "code",
   "execution_count": null,
   "id": "6ff2cb47",
   "metadata": {},
   "outputs": [],
   "source": [
    "soil = Soil_wrapper(in_folder=\"soil3ds_inputs\", IDusm=1, planter=planter)"
   ]
  },
  {
   "cell_type": "markdown",
   "id": "39205111",
   "metadata": {},
   "source": [
    "#### Run de la simulation"
   ]
  },
  {
   "cell_type": "markdown",
   "id": "af4d8a31",
   "metadata": {},
   "source": [
    "variables à initialiser"
   ]
  },
  {
   "cell_type": "code",
   "execution_count": null,
   "id": "70bab51c",
   "metadata": {},
   "outputs": [],
   "source": [
    "IncomingLight = 0.001 # MJ.m-2-degredays-1 (jour cumulant 10 degres days)\n",
    "iterations = 100\n",
    "scenes_gl = []"
   ]
  },
  {
   "cell_type": "code",
   "execution_count": null,
   "id": "b2543d33",
   "metadata": {},
   "outputs": [],
   "source": [
    "# lancement de la simulation\n",
    "doy_start = 60\n",
    "for i in range(iterations):\n",
    "    print(\"t: \",i)\n",
    "\n",
    "    rampante.derive(i)\n",
    "\n",
    "    # LIGHT #\n",
    "    scene = rampante.light_inputs()\n",
    "    light.run(scenes=[scene], day=i)\n",
    "    rampante.light_results(light.results_organs(), energy=IncomingLight)\n",
    "    \n",
    "    scenes_gl.append(light.plantgl(lighting=True))\n",
    "\n",
    "    # SOIL #\n",
    "    soil_inputs_planterampante = rampante.soil_inputs(soil)\n",
    "    \n",
    "    (N_content_roots_per_plant,\n",
    "    roots_length_per_plant_per_soil_layer,\n",
    "    plants_soil_parameters,\n",
    "    plants_light_interception) = indexer.soil_inputs({name : soil_inputs_planterampante})\n",
    "    \n",
    "    soil.run(\n",
    "            day=doy_start+i,\n",
    "            N_content_roots_per_plant=N_content_roots_per_plant,\n",
    "            roots_length_per_plant_per_soil_layer=roots_length_per_plant_per_soil_layer,\n",
    "            soil_plants_parameters=plants_soil_parameters,\n",
    "            plants_light_interception=plants_light_interception,\n",
    "        )\n",
    "    soiltemporaire, stateEV, ls_ftsw, ls_transp, ls_Act_Nuptake_plt, temps_sol = soil.results\n",
    "    rampante.soil_results(ls_Act_Nuptake_plt)\n",
    "    \n",
    "    rampante.run()    \n"
   ]
  },
  {
   "cell_type": "markdown",
   "id": "a750023f",
   "metadata": {},
   "source": [
    "bonus pour illustrer ce que peut faire la méthode end(), ici elle affiche des grandeurs"
   ]
  },
  {
   "cell_type": "code",
   "execution_count": null,
   "id": "08287671",
   "metadata": {},
   "outputs": [],
   "source": [
    "rampante.end()"
   ]
  },
  {
   "cell_type": "markdown",
   "id": "43e5744f",
   "metadata": {},
   "source": [
    "Visualisation de la scène en exportant les scènes plantGL"
   ]
  },
  {
   "cell_type": "code",
   "execution_count": null,
   "id": "62286fcf",
   "metadata": {},
   "outputs": [],
   "source": [
    "# visualisation\n",
    "t = 0\n",
    "SceneWidget(scenes_gl[60], \n",
    "                position=(0.0, 0.0, 0.0), \n",
    "                size_display=(600, 400), \n",
    "                plane=True, \n",
    "                size_world=5., \n",
    "                axes_helper=True)"
   ]
  },
  {
   "cell_type": "markdown",
   "id": "46de135c",
   "metadata": {},
   "source": [
    "## Planter : Interprétation de la position des plantes\n",
    "On va transférer la position de la plante calculée par le planter vers notre FSPM"
   ]
  },
  {
   "cell_type": "code",
   "execution_count": null,
   "id": "25ff9c1a",
   "metadata": {},
   "outputs": [],
   "source": [
    "from soil3ds import soil_moduleN as solN\n",
    "\n",
    "class PlanteRampante_Wrapper(PlanteRampante_Wrapper):\n",
    "    def __init__(self, name=\"rampante\", planter=Planter(), indexer=Indexer()) -> None:\n",
    "        \"\"\"Initialisation de l'interface\n",
    "\n",
    "        Parameters\n",
    "        ----------\n",
    "        name : string\n",
    "            nom personnalisé de notre instance de PlanteRampante\n",
    "        planter : Planter, optional\n",
    "            un planter pour récupère les dimensions xy du sol, by default Planter()\n",
    "        indexer : Indexer, optional\n",
    "            un indexer pour anticiper des simulations avec d'autres FSPM, by default Indexer()\n",
    "        \"\"\" \n",
    "        \n",
    "        self.name = \"plantrampante\"\n",
    "        self.name_lsystem = 'plante_rampante_aerien.lpy' \n",
    "        self.lsystem = lpy.Lsystem(self.name_lsystem)\n",
    "\n",
    "        self.indexer = indexer\n",
    "        if indexer.global_order != [] :\n",
    "            self.global_index = indexer.global_order.index(name)\n",
    "        else:\n",
    "            self.global_index = 0\n",
    "\n",
    "        self.nb_plant = 1\n",
    "\n",
    "        self.soilsurf = (planter.domain[1][0] - planter.domain[0][0]) ** 2\n",
    "        \n",
    "        # transfert de la position de la plante\n",
    "        if planter.generation_type != \"default\":\n",
    "            self.lsystem.carto = planter.generate_random_other()\n",
    "            self.nb_plant = len(self.lsystem.carto)\n",
    "            a = AxialTree()\n",
    "            for i in range(self.nb_plant):\n",
    "                a.append(self.lsystem.plante(i))\n",
    "                a.append(self.lsystem.A(0, 1., 0))\n",
    "            self.lsystem.axiom = a\n",
    "        \n",
    "            self.lsystem.nb_plt = self.nb_plant\n",
    "            self.lsystem.ParamPN = [solN.default_paramp()] * self.nb_plant\n",
    "            self.lsystem.ls_N = [1.] * self.nb_plant\n",
    "\n",
    "        # simulation avec couplage lumiere\n",
    "        self.lsystem.opt_external_coupling = 1\n",
    "\n",
    "        self.lstring = self.lsystem.axiom\n",
    "        \n",
    "        self.data_results = {\"dMS\" : [], \"dMSRoot\" : [], \"epsi\" : [], \"roots_length\" : [], \"t\" : []}"
   ]
  },
  {
   "cell_type": "code",
   "execution_count": null,
   "id": "ef1f1ffa",
   "metadata": {},
   "outputs": [],
   "source": [
    "from plantfusion.indexer import Indexer\n",
    "from plantfusion.light_wrapper import Light_wrapper\n",
    "from plantfusion.soil_wrapper import Soil_wrapper\n",
    "from plantfusion.planter import Planter\n",
    "\n",
    "name = \"planterampante\"\n",
    "indexer = Indexer(global_order=[name], other_names=[name])\n",
    "\n",
    "plantdensity = {name : 10}\n",
    "xy_square_length = 0.5\n",
    "planter = Planter(generation_type=\"random\", \n",
    "                  indexer=indexer, \n",
    "                  plant_density=plantdensity, \n",
    "                  xy_square_length=xy_square_length)\n",
    "planter.transformations[\"scenes unit\"][0] = \"cm\"\n",
    "\n",
    "rampante = PlanteRampante_Wrapper(name, planter, indexer)\n",
    "\n",
    "light = Light_wrapper(lightmodel=\"caribu\", planter=planter, infinite=True)\n",
    "soil = Soil_wrapper(in_folder=\"soil3ds_inputs\", IDusm=1, planter=planter)\n",
    "\n",
    "IncomingLight = 0.001 # MJ.m-2-degredays-1 (jour cumulant 10 degres days)\n",
    "doy_start = 60\n",
    "for i in range(iterations):\n",
    "    print(\"t: \",i)\n",
    "\n",
    "    rampante.derive(i)\n",
    "\n",
    "    # LIGHT #\n",
    "    scene = rampante.light_inputs()\n",
    "    light.run(scenes=[scene], day=i)\n",
    "    rampante.light_results(light.results_organs(), energy=IncomingLight)\n",
    "\n",
    "    # SOIL #\n",
    "    (\n",
    "        N_content_roots_per_plant,\n",
    "        roots_length_per_plant_per_soil_layer,\n",
    "        soil_plants_parameters,\n",
    "        plants_light_interception,\n",
    "    ) = rampante.soil_inputs(soil)\n",
    "    soil.run(\n",
    "        day=doy_start+i,\n",
    "        N_content_roots_per_plant=[N_content_roots_per_plant],\n",
    "        roots_length_per_plant_per_soil_layer=[roots_length_per_plant_per_soil_layer],\n",
    "        soil_plants_parameters=[soil_plants_parameters],\n",
    "        plants_light_interception=[plants_light_interception],\n",
    "    )\n",
    "    rampante.soil_results(soil.results[4])\n",
    "\n",
    "    rampante.run()\n",
    "\n",
    "rampante.end()"
   ]
  },
  {
   "cell_type": "code",
   "execution_count": null,
   "id": "1d8f8ed3",
   "metadata": {},
   "outputs": [],
   "source": [
    "# visualisation\n",
    "t = 1\n",
    "SceneWidget(rampante.light_inputs(), \n",
    "                position=(0.0, 0.0, 0.0), \n",
    "                size_display=(600, 400), \n",
    "                plane=True, \n",
    "                size_world=5., \n",
    "                axes_helper=True)"
   ]
  },
  {
   "cell_type": "code",
   "execution_count": null,
   "id": "044d10b8",
   "metadata": {},
   "outputs": [],
   "source": [
    "rampante.lsystem.carto"
   ]
  },
  {
   "cell_type": "code",
   "execution_count": null,
   "id": "d1e3d78d",
   "metadata": {},
   "outputs": [],
   "source": [
    "rampante.lstring"
   ]
  },
  {
   "cell_type": "markdown",
   "id": "3d7889a4",
   "metadata": {},
   "source": [
    "## Plante rampante + CN-wheat"
   ]
  },
  {
   "cell_type": "code",
   "execution_count": null,
   "id": "1bb933a4",
   "metadata": {},
   "outputs": [],
   "source": [
    "def simulation_planterampante_wheat(iterations, in_folder, out_folder, write_geo):\n",
    "    from plantfusion.indexer import Indexer\n",
    "    from plantfusion.light_wrapper import Light_wrapper\n",
    "    from plantfusion.soil_wrapper import Soil_wrapper\n",
    "    from plantfusion.planter import Planter\n",
    "    from plantfusion.wheat_wrapper import Wheat_wrapper\n",
    "\n",
    "    # initialisation des noms et de l'indexer\n",
    "    name1 = \"planterampante\"\n",
    "    name2 = \"wheat\"\n",
    "    indexer = Indexer(global_order=[name1, name2], wheat_names=[name2], other_names=[name1])\n",
    "    \n",
    "    # plantation des plantes\n",
    "    plantdensity = {name1 : 10, name2 : 150}\n",
    "    xy_square_length = 0.5\n",
    "    planter = Planter(generation_type=\"random\", indexer=indexer, plant_density=plantdensity, xy_square_length=xy_square_length)\n",
    "    planter.transformations[\"scenes unit\"][0] = \"cm\"\n",
    "    # instance de plante rampante\n",
    "    rampante = PlanteRampante_Wrapper(name1, planter, indexer)\n",
    "\n",
    "    # paramètres d'entrée pour WheatFSPM\n",
    "    RERmax_vegetative_stages_example = {\n",
    "        \"elongwheat\": {\n",
    "            \"RERmax\": {5: 3.35e-06, 6: 2.1e-06, 7: 2.0e-06, 8: 1.83e-06, 9: 1.8e-06, 10: 1.65e-06, 11: 1.56e-06}\n",
    "        }\n",
    "    }\n",
    "    tillers_replications = {\"T1\": 0.5, \"T2\": 0.5, \"T3\": 0.5, \"T4\": 0.5}\n",
    "    senescwheat_timestep = 1\n",
    "    light_timestep = 4\n",
    "\n",
    "    # instance de WheatFspm\n",
    "    wheat = Wheat_wrapper(\n",
    "        in_folder=in_folder,\n",
    "        name=name2,\n",
    "        out_folder=out_folder,\n",
    "        planter=planter,\n",
    "        indexer=indexer,\n",
    "        external_soil_model=True,\n",
    "        nitrates_uptake_forced=False,\n",
    "        update_parameters_all_models=RERmax_vegetative_stages_example,\n",
    "        tillers_replications=tillers_replications,\n",
    "        SENESCWHEAT_TIMESTEP=senescwheat_timestep,\n",
    "        LIGHT_TIMESTEP=light_timestep,\n",
    "        SOIL_PARAMETERS_FILENAME=\"inputs_soil_legume/Parametres_plante_exemple.xls\"\n",
    "    )\n",
    "\n",
    "    # instance pour la lumière\n",
    "    light = Light_wrapper(lightmodel=\"caribu\", indexer=indexer, planter=planter, out_folder=out_folder, infinite=True, writegeo=write_geo)\n",
    "    \n",
    "    # instance pour le sol\n",
    "    soil = Soil_wrapper(in_folder=\"soil3ds_inputs\", IDusm=1, planter=planter)\n",
    "\n",
    "    # énergie constante pour plante rampante\n",
    "    IncomingLight = 0.001 # MJ.m-2-degredays-1 (jour cumulant 10 degres days)\n",
    "    # itérations de plante rampante\n",
    "    t_pr = 0\n",
    "    doy_start = 60\n",
    "    \n",
    "    # RUN SIMULATION #\n",
    "    for t_wheat in range(wheat.start_time, iterations, wheat.SENESCWHEAT_TIMESTEP):\n",
    "        ## conditions pour calculer l'environnement\n",
    "        # on change de jour\n",
    "        activate_planterampante = wheat.doy(t_wheat) != wheat.next_day_next_hour(t_wheat)\n",
    "        # la soleil est levé\n",
    "        daylight = (t_wheat % light_timestep == 0) and (wheat.PARi_next_hours(t_wheat) > 0)\n",
    "\n",
    "        if daylight or activate_planterampante:\n",
    "            # derive le lsystem avant la lumière et le sol\n",
    "            if activate_planterampante:\n",
    "                rampante.derive(t_pr)\n",
    "\n",
    "            # LIGHT #\n",
    "            scene1 = rampante.light_inputs()\n",
    "            scene2, stems = wheat.light_inputs(planter)\n",
    "            scenes = indexer.light_scenes_mgmt({name1 : scene1, name2 : scene2})\n",
    "            light.run(\n",
    "                scenes=scenes,\n",
    "                day=wheat.doy(t_wheat),\n",
    "                hour=wheat.hour(t_wheat),\n",
    "                parunit=\"RG\",\n",
    "                stems=stems\n",
    "            )\n",
    "\n",
    "            # transmets la lumière à wheat\n",
    "            if daylight:\n",
    "                wheat.light_results(energy=wheat.energy(t_wheat), lighting=light)\n",
    "\n",
    "            if activate_planterampante:\n",
    "                # transmets la lumière à plante rampante\n",
    "                rampante.light_results(light.results_organs(), energy=IncomingLight)\n",
    "\n",
    "                # SOIL #\n",
    "                soil_wheat_inputs = wheat.soil_inputs(soil, planter, light)\n",
    "                soil_planterampante_inputs = rampante.soil_inputs(soil)\n",
    "                (\n",
    "                    N_content_roots_per_plant,\n",
    "                    roots_length_per_plant_per_soil_layer,\n",
    "                    plants_soil_parameters,\n",
    "                    plants_light_interception,\n",
    "                ) = indexer.soil_inputs({name1 : soil_planterampante_inputs, name2 : soil_wheat_inputs})\n",
    "                soil.run(\n",
    "                    day=doy_start+t_pr,\n",
    "                    N_content_roots_per_plant=N_content_roots_per_plant,\n",
    "                    roots_length_per_plant_per_soil_layer=roots_length_per_plant_per_soil_layer,\n",
    "                    soil_plants_parameters=plants_soil_parameters,\n",
    "                    plants_light_interception=plants_light_interception,\n",
    "                )\n",
    "                rampante.soil_results(soil.results[4])\n",
    "                wheat.soil_results(soil.results[4], planter=planter)\n",
    "\n",
    "                rampante.run()\n",
    "                t_pr += 1\n",
    "        \n",
    "        wheat.run(t_wheat)\n",
    "    \n",
    "    rampante.end()"
   ]
  },
  {
   "cell_type": "code",
   "execution_count": null,
   "id": "6e284625",
   "metadata": {},
   "outputs": [],
   "source": [
    "iterations = 1000\n",
    "in_folder_wheat = \"inputs_fspmwheat\"\n",
    "out_folder = \"outputs\"\n",
    "write_geo = True\n",
    "simulation_planterampante_wheat(iterations, in_folder_wheat, out_folder, write_geo)"
   ]
  }
 ],
 "metadata": {
  "kernelspec": {
   "display_name": "Python 3 (ipykernel)",
   "language": "python",
   "name": "python3"
  },
  "language_info": {
   "codemirror_mode": {
    "name": "ipython",
    "version": 3
   },
   "file_extension": ".py",
   "mimetype": "text/x-python",
   "name": "python",
   "nbconvert_exporter": "python",
   "pygments_lexer": "ipython3",
   "version": "3.8.17"
  }
 },
 "nbformat": 4,
 "nbformat_minor": 5
}
