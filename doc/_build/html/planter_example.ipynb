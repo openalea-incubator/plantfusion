{
 "cells": [
  {
   "cell_type": "markdown",
   "id": "15664cf6",
   "metadata": {},
   "source": [
    "# Exploration Planter\n",
    "\n",
    "3 générations différentes\n",
    "- random : tirage aléoire pour chaque plante\n",
    "- row : une ligne de plantes par espèce\n",
    "- default : définition par défaut de l-egume et fspmwheat\n",
    "\n",
    "Note : activer `visu_roots` dans `inputs_soil_legume/mod_sums.xls` pour afficher les positions de l-egume\n"
   ]
  },
  {
   "cell_type": "markdown",
   "id": "0a1de82f",
   "metadata": {},
   "source": [
    "## Tirage aléatoire\n",
    "\n",
    "Inputs\n",
    "- densité de plantes en plante/m-2\n",
    "- longueur du côté du carré sol (aka domaine de définition du sol est nécessairement un carré de longueur l) en m\n",
    "\n",
    "Pour l-egume, on rajuste la taille du sol pour avoir 64 plantes en fonction de la densité de plantes"
   ]
  },
  {
   "cell_type": "code",
   "execution_count": 1,
   "id": "7c888e62",
   "metadata": {},
   "outputs": [],
   "source": [
    "from plantfusion.l_egume_wrapper import L_egume_wrapper\n",
    "from plantfusion.wheat_wrapper import Wheat_wrapper\n",
    "from plantfusion.planter import Planter\n",
    "from plantfusion.indexer import Indexer\n",
    "import openalea.plantgl.all as pgl\n",
    "from pgljupyter import SceneWidget\n",
    "import random"
   ]
  },
  {
   "cell_type": "code",
   "execution_count": 2,
   "id": "78202104",
   "metadata": {},
   "outputs": [],
   "source": [
    "def scene_cm_tp_m(scenes_cm):\n",
    "    scene_m = []\n",
    "    mat = pgl.Material((random.randint(0,255),random.randint(0,255),random.randint(0,255)))\n",
    "    for shape in scenes_cm:\n",
    "        scene_m.append(pgl.Shape(pgl.Scaled(0.01, shape.geometry), mat, shape.id))\n",
    "    return pgl.Scene(scene_m)"
   ]
  },
  {
   "cell_type": "code",
   "execution_count": 5,
   "id": "3f55021c",
   "metadata": {},
   "outputs": [
    {
     "name": "stderr",
     "output_type": "stream",
     "text": [
      "<string>:906: Warning: Found symbol '#' after Lstring. Considered as begining of comments\n",
      "<string>:923: Warning: Found symbol '#' after Lstring. Considered as begining of comments\n",
      "<string>:1213: Warning: Found symbol '#' after Lstring. Considered as begining of comments\n",
      "<string>:1271: Warning: Found symbol '#' after Lstring. Considered as begining of comments\n",
      "<string>:1293: Warning: Found symbol '#' after Lstring. Considered as begining of comments\n",
      "<string>:1743: Warning: Found symbol '#' after Lstring. Considered as begining of comments\n",
      "<string>:1821: Warning: Found symbol '#' after Lstring. Considered as begining of comments\n",
      "<string>:1962: Warning: Found symbol '#' after Lstring. Considered as begining of comments\n",
      "<string>:1976: Warning: Found symbol '#' after Lstring. Considered as begining of comments\n",
      "<string>:1977: Warning: Found symbol '#' after Lstring. Considered as begining of comments\n",
      "<string>:2022: Warning: Found symbol '#' after Lstring. Considered as begining of comments\n",
      "<string>:2024: Warning: Found symbol '#' after Lstring. Considered as begining of comments\n",
      "c:\\users\\mwoussen\\cdd\\codes\\lib\\l-egume\\legume\\run_legume_usm.py:61: Warning: Interpretation rules should be context free. Contexts not supported for multiple iterations.\n",
      "  testsim[name] = lpy.Lsystem(path_lsys)  # objet l-system\n",
      "<string>:2142: Warning: Found symbol '#' after Lstring. Considered as begining of comments\n",
      "<string>:2233: Warning: Found symbol '#' after Lstring. Considered as begining of comments\n"
     ]
    },
    {
     "name": "stdout",
     "output_type": "stream",
     "text": [
      "lspe ['Fix2', 'nonFixSimTest']\n",
      "carto 64 [array([45.18706651,  6.7352176 ,  0.        ]), array([28.15068788, 28.43525167,  0.        ]), array([31.98414407, 45.81920989,  0.        ]), array([42.66407713, 23.41491511,  0.        ]), array([ 9.27557493, 50.13841802,  0.        ]), array([45.34872382,  6.46036323,  0.        ]), array([38.4820946 ,  6.88174918,  0.        ]), array([10.38665456,  0.89927057,  0.        ]), array([48.4447082 , 50.05810195,  0.        ]), array([49.57928533, 17.22710444,  0.        ]), array([14.35112681, 33.11564322,  0.        ]), array([31.81233574, 22.63101218,  0.        ]), array([21.63022586, 27.18246829,  0.        ]), array([48.71305385, 43.89415521,  0.        ]), array([1.25336240e-02, 3.74787318e+01, 0.00000000e+00]), array([32.01326149,  4.2796029 ,  0.        ]), array([41.37215217, 42.24182317,  0.        ]), array([15.00529902, 40.08536072,  0.        ]), array([11.1381922 , 19.96149264,  0.        ]), array([30.22408424, 28.64976012,  0.        ]), array([43.61632598, 48.80311008,  0.        ]), array([20.38971419, 15.73760459,  0.        ]), array([ 4.30236926, 25.03873559,  0.        ]), array([41.04492772,  1.38019918,  0.        ]), array([ 4.2490913 , 12.42249826,  0.        ]), array([23.51042806, 45.67769065,  0.        ]), array([12.08615432, 40.93592006,  0.        ]), array([19.7871297 , 45.31964494,  0.        ]), array([46.7388631 , 21.95069813,  0.        ]), array([42.75119211, 19.40388244,  0.        ]), array([42.8250978 , 43.26893071,  0.        ]), array([ 7.71553575, 24.31313578,  0.        ]), array([25.66637885, 25.81502024,  0.        ]), array([50.48941262, 47.89723802,  0.        ]), array([42.52168957, 22.78452857,  0.        ]), array([14.1046173 , 13.83619692,  0.        ]), array([10.69219429,  3.93724816,  0.        ]), array([43.28389827,  5.6719116 ,  0.        ]), array([33.14432953, 10.8038618 ,  0.        ]), array([0.27938803, 6.75896204, 0.        ]), array([ 8.85411712, 42.71357344,  0.        ]), array([36.01117121, 30.81792598,  0.        ]), array([39.82827423, 21.97286784,  0.        ]), array([ 7.67015043, 28.13297267,  0.        ]), array([12.00528833, 21.48374928,  0.        ]), array([23.33572144,  7.85634736,  0.        ]), array([11.21104153, 37.81213681,  0.        ]), array([27.02102134, 29.36155422,  0.        ]), array([ 8.09811854, 41.43183684,  0.        ]), array([23.29157233, 24.09916078,  0.        ]), array([28.32948815,  2.16894546,  0.        ]), array([33.80185257, 22.76287074,  0.        ]), array([39.05268681, 38.68303019,  0.        ]), array([4.0065713, 0.8418209, 0.       ]), array([17.66875536, 46.21194385,  0.        ]), array([10.22789193, 35.99192722,  0.        ]), array([30.88559014, 42.26689107,  0.        ]), array([25.5171769 , 19.27309906,  0.        ]), array([16.25661124, 40.30922951,  0.        ]), array([29.99718917, 39.16049021,  0.        ]), array([38.18360339, 43.98132859,  0.        ]), array([45.0510193 , 23.19761642,  0.        ]), array([6.76174316, 5.07886369, 0.        ]), array([ 4.88344656, 18.57748697,  0.        ])]\n",
      "soil init [16.0, 16.0, 16.0, 16.0, 16.0, 16.0, 16.0, 16.0] [0.1, 0.1, 0.1, 0.1, 0.1, 0.1, 0.1, 0.1] [[0.3333333333333333, 0.3333333333333333, 0.3333333333333333, 0.0, 0.0, 0.0, 0.0, 0.0, 0.0, 0.0, 0.0, 0.0, 0.0, 0.0, 0.0, 0.0, 0.0, 0.0, 0.0, 0.0, 0.0, 0.0, 0.0, 0.0, 0.0, 0.0, 0.0, 0.0, 0.0, 0.0, 0.0, 0.0, 0.0, 0.0, 0.0, 0.0, 0.0, 0.0, 0.0, 0.0, 0.0, 0.0, 0.0, 0.0, 0.0, 0.0, 0.0, 0.0, 0.0, 0.0, 0.0, 0.0, 0.0], [0.3333333333333333, 0.3333333333333333, 0.3333333333333333, 0.0, 0.0, 0.0, 0.0, 0.0, 0.0, 0.0, 0.0, 0.0, 0.0, 0.0, 0.0, 0.0, 0.0, 0.0, 0.0, 0.0, 0.0, 0.0, 0.0, 0.0, 0.0, 0.0, 0.0, 0.0, 0.0, 0.0, 0.0, 0.0, 0.0, 0.0, 0.0, 0.0, 0.0, 0.0, 0.0, 0.0, 0.0, 0.0, 0.0, 0.0, 0.0, 0.0, 0.0, 0.0, 0.0, 0.0, 0.0, 0.0, 0.0], [0.3333333333333333, 0.3333333333333333, 0.3333333333333333, 0.0, 0.0, 0.0, 0.0, 0.0, 0.0, 0.0, 0.0, 0.0, 0.0, 0.0, 0.0, 0.0, 0.0, 0.0, 0.0, 0.0, 0.0, 0.0, 0.0, 0.0, 0.0, 0.0, 0.0, 0.0, 0.0, 0.0, 0.0, 0.0, 0.0, 0.0, 0.0, 0.0, 0.0, 0.0, 0.0, 0.0, 0.0, 0.0, 0.0, 0.0, 0.0, 0.0, 0.0, 0.0, 0.0, 0.0, 0.0, 0.0, 0.0], [0.3333333333333333, 0.3333333333333333, 0.3333333333333333, 0.0, 0.0, 0.0, 0.0, 0.0, 0.0, 0.0, 0.0, 0.0, 0.0, 0.0, 0.0, 0.0, 0.0, 0.0, 0.0, 0.0, 0.0, 0.0, 0.0, 0.0, 0.0, 0.0, 0.0, 0.0, 0.0, 0.0, 0.0, 0.0, 0.0, 0.0, 0.0, 0.0, 0.0, 0.0, 0.0, 0.0, 0.0, 0.0, 0.0, 0.0, 0.0, 0.0, 0.0, 0.0, 0.0, 0.0, 0.0, 0.0, 0.0], [0.3333333333333333, 0.3333333333333333, 0.3333333333333333, 0.0, 0.0, 0.0, 0.0, 0.0, 0.0, 0.0, 0.0, 0.0, 0.0, 0.0, 0.0, 0.0, 0.0, 0.0, 0.0, 0.0, 0.0, 0.0, 0.0, 0.0, 0.0, 0.0, 0.0, 0.0, 0.0, 0.0, 0.0, 0.0, 0.0, 0.0, 0.0, 0.0, 0.0, 0.0, 0.0, 0.0, 0.0, 0.0, 0.0, 0.0, 0.0, 0.0, 0.0, 0.0, 0.0, 0.0, 0.0, 0.0, 0.0], [0.3333333333333333, 0.3333333333333333, 0.3333333333333333, 0.0, 0.0, 0.0, 0.0, 0.0, 0.0, 0.0, 0.0, 0.0, 0.0, 0.0, 0.0, 0.0, 0.0, 0.0, 0.0, 0.0, 0.0, 0.0, 0.0, 0.0, 0.0, 0.0, 0.0, 0.0, 0.0, 0.0, 0.0, 0.0, 0.0, 0.0, 0.0, 0.0, 0.0, 0.0, 0.0, 0.0, 0.0, 0.0, 0.0, 0.0, 0.0, 0.0, 0.0, 0.0, 0.0, 0.0, 0.0, 0.0, 0.0], [0.3333333333333333, 0.3333333333333333, 0.3333333333333333, 0.0, 0.0, 0.0, 0.0, 0.0, 0.0, 0.0, 0.0, 0.0, 0.0, 0.0, 0.0, 0.0, 0.0, 0.0, 0.0, 0.0, 0.0, 0.0, 0.0, 0.0, 0.0, 0.0, 0.0, 0.0, 0.0, 0.0, 0.0, 0.0, 0.0, 0.0, 0.0, 0.0, 0.0, 0.0, 0.0, 0.0, 0.0, 0.0, 0.0, 0.0, 0.0, 0.0, 0.0, 0.0, 0.0, 0.0, 0.0, 0.0, 0.0], [0.3333333333333333, 0.3333333333333333, 0.3333333333333333, 0.0, 0.0, 0.0, 0.0, 0.0, 0.0, 0.0, 0.0, 0.0, 0.0, 0.0, 0.0, 0.0, 0.0, 0.0, 0.0, 0.0, 0.0, 0.0, 0.0, 0.0, 0.0, 0.0, 0.0, 0.0, 0.0, 0.0, 0.0, 0.0, 0.0, 0.0, 0.0, 0.0, 0.0, 0.0, 0.0, 0.0, 0.0, 0.0, 0.0, 0.0, 0.0, 0.0, 0.0, 0.0, 0.0, 0.0, 0.0, 0.0, 0.0]] [0.7, 0.7, 0.7, 0.7, 0.7, 0.7, 0.7, 0.7] [0.42, 0.42, 0.42, 0.42, 0.42, 0.42, 0.42, 0.42]\n",
      "ls_CRES (8, 30, 5, 5)\n",
      "ls_CBio (8, 30, 5, 5)\n",
      "parResi {'CNRESt': [16.0, 16.0, 16.0, 16.0, 16.0, 16.0, 16.0, 16.0], 'CNBio': [8.412500000000001, 8.412500000000001, 8.412500000000001, 8.412500000000001, 8.412500000000001, 8.412500000000001, 8.412500000000001, 8.412500000000001], 'KRES': [0.19125, 0.19125, 0.19125, 0.19125, 0.19125, 0.19125, 0.19125, 0.19125], 'YRES': [0.62, 0.62, 0.62, 0.62, 0.62, 0.62, 0.62, 0.62], 'KBio': [0.011, 0.011, 0.011, 0.011, 0.011, 0.011, 0.011, 0.011], 'HRES': [0.5941176470588235, 0.5941176470588235, 0.5941176470588235, 0.5941176470588235, 0.5941176470588235, 0.5941176470588235, 0.5941176470588235, 0.5941176470588235], 'TRefg': 15.0, 'FTEMHAg': 12.0, 'FTEMHg': 0.103, 'FTEMHB': 52.0}\n",
      "61\n",
      "lspe ['Fix2', 'nonFixSimTest']\n"
     ]
    },
    {
     "name": "stderr",
     "output_type": "stream",
     "text": [
      "c:\\users\\mwoussen\\cdd\\codes\\lib\\soil3ds\\soil3ds\\soil_moduleN.py:315: RuntimeWarning: invalid value encountered in true_divide\n",
      "  ls_concN = list(map(np.divide, list(map(np.sum, ls_masked_moleN)), list(map(np.sum, ls_vol_eau))))\n"
     ]
    },
    {
     "name": "stdout",
     "output_type": "stream",
     "text": [
      "carto 64 [array([45.18706651,  6.7352176 ,  0.        ]), array([28.15068788, 28.43525167,  0.        ]), array([31.98414407, 45.81920989,  0.        ]), array([42.66407713, 23.41491511,  0.        ]), array([ 9.27557493, 50.13841802,  0.        ]), array([45.34872382,  6.46036323,  0.        ]), array([38.4820946 ,  6.88174918,  0.        ]), array([10.38665456,  0.89927057,  0.        ]), array([48.4447082 , 50.05810195,  0.        ]), array([49.57928533, 17.22710444,  0.        ]), array([14.35112681, 33.11564322,  0.        ]), array([31.81233574, 22.63101218,  0.        ]), array([21.63022586, 27.18246829,  0.        ]), array([48.71305385, 43.89415521,  0.        ]), array([1.25336240e-02, 3.74787318e+01, 0.00000000e+00]), array([32.01326149,  4.2796029 ,  0.        ]), array([41.37215217, 42.24182317,  0.        ]), array([15.00529902, 40.08536072,  0.        ]), array([11.1381922 , 19.96149264,  0.        ]), array([30.22408424, 28.64976012,  0.        ]), array([43.61632598, 48.80311008,  0.        ]), array([20.38971419, 15.73760459,  0.        ]), array([ 4.30236926, 25.03873559,  0.        ]), array([41.04492772,  1.38019918,  0.        ]), array([ 4.2490913 , 12.42249826,  0.        ]), array([23.51042806, 45.67769065,  0.        ]), array([12.08615432, 40.93592006,  0.        ]), array([19.7871297 , 45.31964494,  0.        ]), array([46.7388631 , 21.95069813,  0.        ]), array([42.75119211, 19.40388244,  0.        ]), array([42.8250978 , 43.26893071,  0.        ]), array([ 7.71553575, 24.31313578,  0.        ]), array([25.66637885, 25.81502024,  0.        ]), array([50.48941262, 47.89723802,  0.        ]), array([42.52168957, 22.78452857,  0.        ]), array([14.1046173 , 13.83619692,  0.        ]), array([10.69219429,  3.93724816,  0.        ]), array([43.28389827,  5.6719116 ,  0.        ]), array([33.14432953, 10.8038618 ,  0.        ]), array([0.27938803, 6.75896204, 0.        ]), array([ 8.85411712, 42.71357344,  0.        ]), array([36.01117121, 30.81792598,  0.        ]), array([39.82827423, 21.97286784,  0.        ]), array([ 7.67015043, 28.13297267,  0.        ]), array([12.00528833, 21.48374928,  0.        ]), array([23.33572144,  7.85634736,  0.        ]), array([11.21104153, 37.81213681,  0.        ]), array([27.02102134, 29.36155422,  0.        ]), array([ 8.09811854, 41.43183684,  0.        ]), array([23.29157233, 24.09916078,  0.        ]), array([28.32948815,  2.16894546,  0.        ]), array([33.80185257, 22.76287074,  0.        ]), array([39.05268681, 38.68303019,  0.        ]), array([4.0065713, 0.8418209, 0.       ]), array([17.66875536, 46.21194385,  0.        ]), array([10.22789193, 35.99192722,  0.        ]), array([30.88559014, 42.26689107,  0.        ]), array([25.5171769 , 19.27309906,  0.        ]), array([16.25661124, 40.30922951,  0.        ]), array([29.99718917, 39.16049021,  0.        ]), array([38.18360339, 43.98132859,  0.        ]), array([45.0510193 , 23.19761642,  0.        ]), array([6.76174316, 5.07886369, 0.        ]), array([ 4.88344656, 18.57748697,  0.        ])]\n",
      "soil init [16.0, 16.0, 16.0, 16.0, 16.0, 16.0, 16.0, 16.0] [0.1, 0.1, 0.1, 0.1, 0.1, 0.1, 0.1, 0.1] [[0.3333333333333333, 0.3333333333333333, 0.3333333333333333, 0.0, 0.0, 0.0, 0.0, 0.0, 0.0, 0.0, 0.0, 0.0, 0.0, 0.0, 0.0, 0.0, 0.0, 0.0, 0.0, 0.0, 0.0, 0.0, 0.0, 0.0, 0.0, 0.0, 0.0, 0.0, 0.0, 0.0, 0.0, 0.0, 0.0, 0.0, 0.0, 0.0, 0.0, 0.0, 0.0, 0.0, 0.0, 0.0, 0.0, 0.0, 0.0, 0.0, 0.0, 0.0, 0.0, 0.0, 0.0, 0.0, 0.0], [0.3333333333333333, 0.3333333333333333, 0.3333333333333333, 0.0, 0.0, 0.0, 0.0, 0.0, 0.0, 0.0, 0.0, 0.0, 0.0, 0.0, 0.0, 0.0, 0.0, 0.0, 0.0, 0.0, 0.0, 0.0, 0.0, 0.0, 0.0, 0.0, 0.0, 0.0, 0.0, 0.0, 0.0, 0.0, 0.0, 0.0, 0.0, 0.0, 0.0, 0.0, 0.0, 0.0, 0.0, 0.0, 0.0, 0.0, 0.0, 0.0, 0.0, 0.0, 0.0, 0.0, 0.0, 0.0, 0.0], [0.3333333333333333, 0.3333333333333333, 0.3333333333333333, 0.0, 0.0, 0.0, 0.0, 0.0, 0.0, 0.0, 0.0, 0.0, 0.0, 0.0, 0.0, 0.0, 0.0, 0.0, 0.0, 0.0, 0.0, 0.0, 0.0, 0.0, 0.0, 0.0, 0.0, 0.0, 0.0, 0.0, 0.0, 0.0, 0.0, 0.0, 0.0, 0.0, 0.0, 0.0, 0.0, 0.0, 0.0, 0.0, 0.0, 0.0, 0.0, 0.0, 0.0, 0.0, 0.0, 0.0, 0.0, 0.0, 0.0], [0.3333333333333333, 0.3333333333333333, 0.3333333333333333, 0.0, 0.0, 0.0, 0.0, 0.0, 0.0, 0.0, 0.0, 0.0, 0.0, 0.0, 0.0, 0.0, 0.0, 0.0, 0.0, 0.0, 0.0, 0.0, 0.0, 0.0, 0.0, 0.0, 0.0, 0.0, 0.0, 0.0, 0.0, 0.0, 0.0, 0.0, 0.0, 0.0, 0.0, 0.0, 0.0, 0.0, 0.0, 0.0, 0.0, 0.0, 0.0, 0.0, 0.0, 0.0, 0.0, 0.0, 0.0, 0.0, 0.0], [0.3333333333333333, 0.3333333333333333, 0.3333333333333333, 0.0, 0.0, 0.0, 0.0, 0.0, 0.0, 0.0, 0.0, 0.0, 0.0, 0.0, 0.0, 0.0, 0.0, 0.0, 0.0, 0.0, 0.0, 0.0, 0.0, 0.0, 0.0, 0.0, 0.0, 0.0, 0.0, 0.0, 0.0, 0.0, 0.0, 0.0, 0.0, 0.0, 0.0, 0.0, 0.0, 0.0, 0.0, 0.0, 0.0, 0.0, 0.0, 0.0, 0.0, 0.0, 0.0, 0.0, 0.0, 0.0, 0.0], [0.3333333333333333, 0.3333333333333333, 0.3333333333333333, 0.0, 0.0, 0.0, 0.0, 0.0, 0.0, 0.0, 0.0, 0.0, 0.0, 0.0, 0.0, 0.0, 0.0, 0.0, 0.0, 0.0, 0.0, 0.0, 0.0, 0.0, 0.0, 0.0, 0.0, 0.0, 0.0, 0.0, 0.0, 0.0, 0.0, 0.0, 0.0, 0.0, 0.0, 0.0, 0.0, 0.0, 0.0, 0.0, 0.0, 0.0, 0.0, 0.0, 0.0, 0.0, 0.0, 0.0, 0.0, 0.0, 0.0], [0.3333333333333333, 0.3333333333333333, 0.3333333333333333, 0.0, 0.0, 0.0, 0.0, 0.0, 0.0, 0.0, 0.0, 0.0, 0.0, 0.0, 0.0, 0.0, 0.0, 0.0, 0.0, 0.0, 0.0, 0.0, 0.0, 0.0, 0.0, 0.0, 0.0, 0.0, 0.0, 0.0, 0.0, 0.0, 0.0, 0.0, 0.0, 0.0, 0.0, 0.0, 0.0, 0.0, 0.0, 0.0, 0.0, 0.0, 0.0, 0.0, 0.0, 0.0, 0.0, 0.0, 0.0, 0.0, 0.0], [0.3333333333333333, 0.3333333333333333, 0.3333333333333333, 0.0, 0.0, 0.0, 0.0, 0.0, 0.0, 0.0, 0.0, 0.0, 0.0, 0.0, 0.0, 0.0, 0.0, 0.0, 0.0, 0.0, 0.0, 0.0, 0.0, 0.0, 0.0, 0.0, 0.0, 0.0, 0.0, 0.0, 0.0, 0.0, 0.0, 0.0, 0.0, 0.0, 0.0, 0.0, 0.0, 0.0, 0.0, 0.0, 0.0, 0.0, 0.0, 0.0, 0.0, 0.0, 0.0, 0.0, 0.0, 0.0, 0.0]] [0.7, 0.7, 0.7, 0.7, 0.7, 0.7, 0.7, 0.7] [0.42, 0.42, 0.42, 0.42, 0.42, 0.42, 0.42, 0.42]\n",
      "ls_CRES (8, 30, 5, 5)\n",
      "ls_CBio (8, 30, 5, 5)\n",
      "parResi {'CNRESt': [16.0, 16.0, 16.0, 16.0, 16.0, 16.0, 16.0, 16.0], 'CNBio': [8.412500000000001, 8.412500000000001, 8.412500000000001, 8.412500000000001, 8.412500000000001, 8.412500000000001, 8.412500000000001, 8.412500000000001], 'KRES': [0.19125, 0.19125, 0.19125, 0.19125, 0.19125, 0.19125, 0.19125, 0.19125], 'YRES': [0.62, 0.62, 0.62, 0.62, 0.62, 0.62, 0.62, 0.62], 'KBio': [0.011, 0.011, 0.011, 0.011, 0.011, 0.011, 0.011, 0.011], 'HRES': [0.5941176470588235, 0.5941176470588235, 0.5941176470588235, 0.5941176470588235, 0.5941176470588235, 0.5941176470588235, 0.5941176470588235, 0.5941176470588235], 'TRefg': 15.0, 'FTEMHAg': 12.0, 'FTEMHg': 0.103, 'FTEMHB': 52.0}\n",
      "61\n"
     ]
    }
   ],
   "source": [
    "legume_name = \"legume\"\n",
    "wheat_name = \"wheat\"\n",
    "order = [legume_name, wheat_name]\n",
    "indexer = Indexer(global_order=order, legume_names=[legume_name], wheat_names=[wheat_name])\n",
    "\n",
    "generation_type = \"random\"\n",
    "plant_density = {legume_name: 250, wheat_name : 1000}\n",
    "xy_square_length = 0.5\n",
    "\n",
    "planter = Planter(\n",
    "    generation_type=generation_type,\n",
    "    plant_density=plant_density, \n",
    "    xy_square_length=xy_square_length,\n",
    "    indexer=indexer\n",
    ")\n",
    "\n",
    "wheat = Wheat_wrapper(name=wheat_name, in_folder=\"../inputs_fspmwheat\", planter=planter, indexer=indexer)\n",
    "legume = L_egume_wrapper(name=legume_name, in_folder=\"../inputs_soil_legume\", planter=planter, indexer=indexer)\n",
    "legume.derive(0)\n",
    "\n",
    "scene = wheat.light_inputs(planter)[0] + scene_cm_tp_m(legume.light_inputs(elements=\"triangles\"))\n"
   ]
  },
  {
   "cell_type": "code",
   "execution_count": 6,
   "id": "fe53dc2b",
   "metadata": {},
   "outputs": [
    {
     "data": {
      "application/vnd.jupyter.widget-view+json": {
       "model_id": "eaef1770f3e24cb099576b170086dd63",
       "version_major": 2,
       "version_minor": 0
      },
      "text/plain": [
       "SceneWidget(axes_helper=True, scenes=[{'id': 'cew0zcLtMm6GVK8bXZAvEUp9b', 'data': b'x\\xda\\xcc\\xbdw\\xb8\\x15\\xc5…"
      ]
     },
     "execution_count": 6,
     "metadata": {},
     "output_type": "execute_result"
    }
   ],
   "source": [
    "SceneWidget(scene, size_display=(600, 400), position=(-0.25, -0.25, 0.0), plane=True, size_world = 0.5, axes_helper=True)\n"
   ]
  },
  {
   "cell_type": "markdown",
   "id": "948a6f82",
   "metadata": {},
   "source": [
    "## Tirage en rangs"
   ]
  },
  {
   "cell_type": "markdown",
   "id": "628971d6",
   "metadata": {},
   "source": [
    "### wheat + l-egume"
   ]
  },
  {
   "cell_type": "code",
   "execution_count": 33,
   "id": "bb194423",
   "metadata": {},
   "outputs": [
    {
     "name": "stderr",
     "output_type": "stream",
     "text": [
      "<string>:906: Warning: Found symbol '#' after Lstring. Considered as begining of comments\n",
      "<string>:923: Warning: Found symbol '#' after Lstring. Considered as begining of comments\n",
      "<string>:1213: Warning: Found symbol '#' after Lstring. Considered as begining of comments\n",
      "<string>:1271: Warning: Found symbol '#' after Lstring. Considered as begining of comments\n",
      "<string>:1293: Warning: Found symbol '#' after Lstring. Considered as begining of comments\n",
      "<string>:1743: Warning: Found symbol '#' after Lstring. Considered as begining of comments\n",
      "<string>:1821: Warning: Found symbol '#' after Lstring. Considered as begining of comments\n",
      "<string>:1962: Warning: Found symbol '#' after Lstring. Considered as begining of comments\n",
      "<string>:1976: Warning: Found symbol '#' after Lstring. Considered as begining of comments\n",
      "<string>:1977: Warning: Found symbol '#' after Lstring. Considered as begining of comments\n",
      "<string>:2022: Warning: Found symbol '#' after Lstring. Considered as begining of comments\n",
      "<string>:2024: Warning: Found symbol '#' after Lstring. Considered as begining of comments\n",
      "c:\\users\\mwoussen\\cdd\\codes\\lib\\l-egume\\legume\\run_legume_usm.py:61: Warning: Interpretation rules should be context free. Contexts not supported for multiple iterations.\n",
      "  testsim[name] = lpy.Lsystem(path_lsys)  # objet l-system\n",
      "<string>:2142: Warning: Found symbol '#' after Lstring. Considered as begining of comments\n",
      "<string>:2233: Warning: Found symbol '#' after Lstring. Considered as begining of comments\n"
     ]
    },
    {
     "name": "stdout",
     "output_type": "stream",
     "text": [
      "lspe ['Fix2', 'nonFixSimTest']\n",
      "carto 40 [array([1., 5., 0.]), array([ 1., 25.,  0.]), array([3., 5., 0.]), array([ 3., 25.,  0.]), array([5., 5., 0.]), array([ 5., 25.,  0.]), array([7., 5., 0.]), array([ 7., 25.,  0.]), array([9., 5., 0.]), array([ 9., 25.,  0.]), array([11.,  5.,  0.]), array([11., 25.,  0.]), array([13.,  5.,  0.]), array([13., 25.,  0.]), array([15.,  5.,  0.]), array([15., 25.,  0.]), array([17.,  5.,  0.]), array([17., 25.,  0.]), array([19.,  5.,  0.]), array([19., 25.,  0.]), array([21.,  5.,  0.]), array([21., 25.,  0.]), array([23.,  5.,  0.]), array([23., 25.,  0.]), array([25.,  5.,  0.]), array([25., 25.,  0.]), array([27.,  5.,  0.]), array([27., 25.,  0.]), array([29.,  5.,  0.]), array([29., 25.,  0.]), array([31.,  5.,  0.]), array([31., 25.,  0.]), array([33.,  5.,  0.]), array([33., 25.,  0.]), array([35.,  5.,  0.]), array([35., 25.,  0.]), array([37.,  5.,  0.]), array([37., 25.,  0.]), array([39.,  5.,  0.]), array([39., 25.,  0.])]\n",
      "soil init [16.0, 16.0, 16.0, 16.0, 16.0, 16.0, 16.0, 16.0] [0.1, 0.1, 0.1, 0.1, 0.1, 0.1, 0.1, 0.1] [[0.3333333333333333, 0.3333333333333333, 0.3333333333333333, 0.0, 0.0, 0.0, 0.0, 0.0, 0.0, 0.0, 0.0, 0.0, 0.0, 0.0, 0.0, 0.0, 0.0, 0.0, 0.0, 0.0, 0.0, 0.0, 0.0, 0.0, 0.0, 0.0, 0.0, 0.0, 0.0, 0.0, 0.0, 0.0, 0.0, 0.0, 0.0, 0.0, 0.0, 0.0, 0.0, 0.0, 0.0, 0.0, 0.0, 0.0, 0.0, 0.0, 0.0, 0.0, 0.0, 0.0, 0.0, 0.0, 0.0], [0.3333333333333333, 0.3333333333333333, 0.3333333333333333, 0.0, 0.0, 0.0, 0.0, 0.0, 0.0, 0.0, 0.0, 0.0, 0.0, 0.0, 0.0, 0.0, 0.0, 0.0, 0.0, 0.0, 0.0, 0.0, 0.0, 0.0, 0.0, 0.0, 0.0, 0.0, 0.0, 0.0, 0.0, 0.0, 0.0, 0.0, 0.0, 0.0, 0.0, 0.0, 0.0, 0.0, 0.0, 0.0, 0.0, 0.0, 0.0, 0.0, 0.0, 0.0, 0.0, 0.0, 0.0, 0.0, 0.0], [0.3333333333333333, 0.3333333333333333, 0.3333333333333333, 0.0, 0.0, 0.0, 0.0, 0.0, 0.0, 0.0, 0.0, 0.0, 0.0, 0.0, 0.0, 0.0, 0.0, 0.0, 0.0, 0.0, 0.0, 0.0, 0.0, 0.0, 0.0, 0.0, 0.0, 0.0, 0.0, 0.0, 0.0, 0.0, 0.0, 0.0, 0.0, 0.0, 0.0, 0.0, 0.0, 0.0, 0.0, 0.0, 0.0, 0.0, 0.0, 0.0, 0.0, 0.0, 0.0, 0.0, 0.0, 0.0, 0.0], [0.3333333333333333, 0.3333333333333333, 0.3333333333333333, 0.0, 0.0, 0.0, 0.0, 0.0, 0.0, 0.0, 0.0, 0.0, 0.0, 0.0, 0.0, 0.0, 0.0, 0.0, 0.0, 0.0, 0.0, 0.0, 0.0, 0.0, 0.0, 0.0, 0.0, 0.0, 0.0, 0.0, 0.0, 0.0, 0.0, 0.0, 0.0, 0.0, 0.0, 0.0, 0.0, 0.0, 0.0, 0.0, 0.0, 0.0, 0.0, 0.0, 0.0, 0.0, 0.0, 0.0, 0.0, 0.0, 0.0], [0.3333333333333333, 0.3333333333333333, 0.3333333333333333, 0.0, 0.0, 0.0, 0.0, 0.0, 0.0, 0.0, 0.0, 0.0, 0.0, 0.0, 0.0, 0.0, 0.0, 0.0, 0.0, 0.0, 0.0, 0.0, 0.0, 0.0, 0.0, 0.0, 0.0, 0.0, 0.0, 0.0, 0.0, 0.0, 0.0, 0.0, 0.0, 0.0, 0.0, 0.0, 0.0, 0.0, 0.0, 0.0, 0.0, 0.0, 0.0, 0.0, 0.0, 0.0, 0.0, 0.0, 0.0, 0.0, 0.0], [0.3333333333333333, 0.3333333333333333, 0.3333333333333333, 0.0, 0.0, 0.0, 0.0, 0.0, 0.0, 0.0, 0.0, 0.0, 0.0, 0.0, 0.0, 0.0, 0.0, 0.0, 0.0, 0.0, 0.0, 0.0, 0.0, 0.0, 0.0, 0.0, 0.0, 0.0, 0.0, 0.0, 0.0, 0.0, 0.0, 0.0, 0.0, 0.0, 0.0, 0.0, 0.0, 0.0, 0.0, 0.0, 0.0, 0.0, 0.0, 0.0, 0.0, 0.0, 0.0, 0.0, 0.0, 0.0, 0.0], [0.3333333333333333, 0.3333333333333333, 0.3333333333333333, 0.0, 0.0, 0.0, 0.0, 0.0, 0.0, 0.0, 0.0, 0.0, 0.0, 0.0, 0.0, 0.0, 0.0, 0.0, 0.0, 0.0, 0.0, 0.0, 0.0, 0.0, 0.0, 0.0, 0.0, 0.0, 0.0, 0.0, 0.0, 0.0, 0.0, 0.0, 0.0, 0.0, 0.0, 0.0, 0.0, 0.0, 0.0, 0.0, 0.0, 0.0, 0.0, 0.0, 0.0, 0.0, 0.0, 0.0, 0.0, 0.0, 0.0], [0.3333333333333333, 0.3333333333333333, 0.3333333333333333, 0.0, 0.0, 0.0, 0.0, 0.0, 0.0, 0.0, 0.0, 0.0, 0.0, 0.0, 0.0, 0.0, 0.0, 0.0, 0.0, 0.0, 0.0, 0.0, 0.0, 0.0, 0.0, 0.0, 0.0, 0.0, 0.0, 0.0, 0.0, 0.0, 0.0, 0.0, 0.0, 0.0, 0.0, 0.0, 0.0, 0.0, 0.0, 0.0, 0.0, 0.0, 0.0, 0.0, 0.0, 0.0, 0.0, 0.0, 0.0, 0.0, 0.0]] [0.7, 0.7, 0.7, 0.7, 0.7, 0.7, 0.7, 0.7] [0.42, 0.42, 0.42, 0.42, 0.42, 0.42, 0.42, 0.42]\n",
      "ls_CRES (8, 30, 5, 5)\n",
      "ls_CBio (8, 30, 5, 5)\n",
      "parResi {'CNRESt': [16.0, 16.0, 16.0, 16.0, 16.0, 16.0, 16.0, 16.0], 'CNBio': [8.412500000000001, 8.412500000000001, 8.412500000000001, 8.412500000000001, 8.412500000000001, 8.412500000000001, 8.412500000000001, 8.412500000000001], 'KRES': [0.19125, 0.19125, 0.19125, 0.19125, 0.19125, 0.19125, 0.19125, 0.19125], 'YRES': [0.62, 0.62, 0.62, 0.62, 0.62, 0.62, 0.62, 0.62], 'KBio': [0.011, 0.011, 0.011, 0.011, 0.011, 0.011, 0.011, 0.011], 'HRES': [0.5941176470588235, 0.5941176470588235, 0.5941176470588235, 0.5941176470588235, 0.5941176470588235, 0.5941176470588235, 0.5941176470588235, 0.5941176470588235], 'TRefg': 15.0, 'FTEMHAg': 12.0, 'FTEMHg': 0.103, 'FTEMHB': 52.0}\n",
      "61\n",
      "lspe ['Fix2', 'nonFixSimTest']\n"
     ]
    },
    {
     "name": "stderr",
     "output_type": "stream",
     "text": [
      "c:\\users\\mwoussen\\cdd\\codes\\lib\\soil3ds\\soil3ds\\soil_moduleN.py:315: RuntimeWarning: invalid value encountered in true_divide\n",
      "  ls_concN = list(map(np.divide, list(map(np.sum, ls_masked_moleN)), list(map(np.sum, ls_vol_eau))))\n"
     ]
    },
    {
     "name": "stdout",
     "output_type": "stream",
     "text": [
      "carto 40 [array([1., 5., 0.]), array([ 1., 25.,  0.]), array([3., 5., 0.]), array([ 3., 25.,  0.]), array([5., 5., 0.]), array([ 5., 25.,  0.]), array([7., 5., 0.]), array([ 7., 25.,  0.]), array([9., 5., 0.]), array([ 9., 25.,  0.]), array([11.,  5.,  0.]), array([11., 25.,  0.]), array([13.,  5.,  0.]), array([13., 25.,  0.]), array([15.,  5.,  0.]), array([15., 25.,  0.]), array([17.,  5.,  0.]), array([17., 25.,  0.]), array([19.,  5.,  0.]), array([19., 25.,  0.]), array([21.,  5.,  0.]), array([21., 25.,  0.]), array([23.,  5.,  0.]), array([23., 25.,  0.]), array([25.,  5.,  0.]), array([25., 25.,  0.]), array([27.,  5.,  0.]), array([27., 25.,  0.]), array([29.,  5.,  0.]), array([29., 25.,  0.]), array([31.,  5.,  0.]), array([31., 25.,  0.]), array([33.,  5.,  0.]), array([33., 25.,  0.]), array([35.,  5.,  0.]), array([35., 25.,  0.]), array([37.,  5.,  0.]), array([37., 25.,  0.]), array([39.,  5.,  0.]), array([39., 25.,  0.])]\n",
      "soil init [16.0, 16.0, 16.0, 16.0, 16.0, 16.0, 16.0, 16.0] [0.1, 0.1, 0.1, 0.1, 0.1, 0.1, 0.1, 0.1] [[0.3333333333333333, 0.3333333333333333, 0.3333333333333333, 0.0, 0.0, 0.0, 0.0, 0.0, 0.0, 0.0, 0.0, 0.0, 0.0, 0.0, 0.0, 0.0, 0.0, 0.0, 0.0, 0.0, 0.0, 0.0, 0.0, 0.0, 0.0, 0.0, 0.0, 0.0, 0.0, 0.0, 0.0, 0.0, 0.0, 0.0, 0.0, 0.0, 0.0, 0.0, 0.0, 0.0, 0.0, 0.0, 0.0, 0.0, 0.0, 0.0, 0.0, 0.0, 0.0, 0.0, 0.0, 0.0, 0.0], [0.3333333333333333, 0.3333333333333333, 0.3333333333333333, 0.0, 0.0, 0.0, 0.0, 0.0, 0.0, 0.0, 0.0, 0.0, 0.0, 0.0, 0.0, 0.0, 0.0, 0.0, 0.0, 0.0, 0.0, 0.0, 0.0, 0.0, 0.0, 0.0, 0.0, 0.0, 0.0, 0.0, 0.0, 0.0, 0.0, 0.0, 0.0, 0.0, 0.0, 0.0, 0.0, 0.0, 0.0, 0.0, 0.0, 0.0, 0.0, 0.0, 0.0, 0.0, 0.0, 0.0, 0.0, 0.0, 0.0], [0.3333333333333333, 0.3333333333333333, 0.3333333333333333, 0.0, 0.0, 0.0, 0.0, 0.0, 0.0, 0.0, 0.0, 0.0, 0.0, 0.0, 0.0, 0.0, 0.0, 0.0, 0.0, 0.0, 0.0, 0.0, 0.0, 0.0, 0.0, 0.0, 0.0, 0.0, 0.0, 0.0, 0.0, 0.0, 0.0, 0.0, 0.0, 0.0, 0.0, 0.0, 0.0, 0.0, 0.0, 0.0, 0.0, 0.0, 0.0, 0.0, 0.0, 0.0, 0.0, 0.0, 0.0, 0.0, 0.0], [0.3333333333333333, 0.3333333333333333, 0.3333333333333333, 0.0, 0.0, 0.0, 0.0, 0.0, 0.0, 0.0, 0.0, 0.0, 0.0, 0.0, 0.0, 0.0, 0.0, 0.0, 0.0, 0.0, 0.0, 0.0, 0.0, 0.0, 0.0, 0.0, 0.0, 0.0, 0.0, 0.0, 0.0, 0.0, 0.0, 0.0, 0.0, 0.0, 0.0, 0.0, 0.0, 0.0, 0.0, 0.0, 0.0, 0.0, 0.0, 0.0, 0.0, 0.0, 0.0, 0.0, 0.0, 0.0, 0.0], [0.3333333333333333, 0.3333333333333333, 0.3333333333333333, 0.0, 0.0, 0.0, 0.0, 0.0, 0.0, 0.0, 0.0, 0.0, 0.0, 0.0, 0.0, 0.0, 0.0, 0.0, 0.0, 0.0, 0.0, 0.0, 0.0, 0.0, 0.0, 0.0, 0.0, 0.0, 0.0, 0.0, 0.0, 0.0, 0.0, 0.0, 0.0, 0.0, 0.0, 0.0, 0.0, 0.0, 0.0, 0.0, 0.0, 0.0, 0.0, 0.0, 0.0, 0.0, 0.0, 0.0, 0.0, 0.0, 0.0], [0.3333333333333333, 0.3333333333333333, 0.3333333333333333, 0.0, 0.0, 0.0, 0.0, 0.0, 0.0, 0.0, 0.0, 0.0, 0.0, 0.0, 0.0, 0.0, 0.0, 0.0, 0.0, 0.0, 0.0, 0.0, 0.0, 0.0, 0.0, 0.0, 0.0, 0.0, 0.0, 0.0, 0.0, 0.0, 0.0, 0.0, 0.0, 0.0, 0.0, 0.0, 0.0, 0.0, 0.0, 0.0, 0.0, 0.0, 0.0, 0.0, 0.0, 0.0, 0.0, 0.0, 0.0, 0.0, 0.0], [0.3333333333333333, 0.3333333333333333, 0.3333333333333333, 0.0, 0.0, 0.0, 0.0, 0.0, 0.0, 0.0, 0.0, 0.0, 0.0, 0.0, 0.0, 0.0, 0.0, 0.0, 0.0, 0.0, 0.0, 0.0, 0.0, 0.0, 0.0, 0.0, 0.0, 0.0, 0.0, 0.0, 0.0, 0.0, 0.0, 0.0, 0.0, 0.0, 0.0, 0.0, 0.0, 0.0, 0.0, 0.0, 0.0, 0.0, 0.0, 0.0, 0.0, 0.0, 0.0, 0.0, 0.0, 0.0, 0.0], [0.3333333333333333, 0.3333333333333333, 0.3333333333333333, 0.0, 0.0, 0.0, 0.0, 0.0, 0.0, 0.0, 0.0, 0.0, 0.0, 0.0, 0.0, 0.0, 0.0, 0.0, 0.0, 0.0, 0.0, 0.0, 0.0, 0.0, 0.0, 0.0, 0.0, 0.0, 0.0, 0.0, 0.0, 0.0, 0.0, 0.0, 0.0, 0.0, 0.0, 0.0, 0.0, 0.0, 0.0, 0.0, 0.0, 0.0, 0.0, 0.0, 0.0, 0.0, 0.0, 0.0, 0.0, 0.0, 0.0]] [0.7, 0.7, 0.7, 0.7, 0.7, 0.7, 0.7, 0.7] [0.42, 0.42, 0.42, 0.42, 0.42, 0.42, 0.42, 0.42]\n",
      "ls_CRES (8, 30, 5, 5)\n",
      "ls_CBio (8, 30, 5, 5)\n",
      "parResi {'CNRESt': [16.0, 16.0, 16.0, 16.0, 16.0, 16.0, 16.0, 16.0], 'CNBio': [8.412500000000001, 8.412500000000001, 8.412500000000001, 8.412500000000001, 8.412500000000001, 8.412500000000001, 8.412500000000001, 8.412500000000001], 'KRES': [0.19125, 0.19125, 0.19125, 0.19125, 0.19125, 0.19125, 0.19125, 0.19125], 'YRES': [0.62, 0.62, 0.62, 0.62, 0.62, 0.62, 0.62, 0.62], 'KBio': [0.011, 0.011, 0.011, 0.011, 0.011, 0.011, 0.011, 0.011], 'HRES': [0.5941176470588235, 0.5941176470588235, 0.5941176470588235, 0.5941176470588235, 0.5941176470588235, 0.5941176470588235, 0.5941176470588235, 0.5941176470588235], 'TRefg': 15.0, 'FTEMHAg': 12.0, 'FTEMHg': 0.103, 'FTEMHB': 52.0}\n",
      "61\n"
     ]
    }
   ],
   "source": [
    "legume_name = \"legume\"\n",
    "wheat_name = \"wheat\"\n",
    "order = [legume_name, wheat_name]\n",
    "indexer = Indexer(global_order=order, legume_names=[legume_name], wheat_names=[wheat_name])\n",
    "\n",
    "generation_type = \"row\"\n",
    "plant_density = {legume_name: 250, wheat_name : 100}\n",
    "inter_rows = 0.10 # m\n",
    "\n",
    "planter = Planter(\n",
    "    generation_type=\"row\",\n",
    "    indexer=indexer,\n",
    "    plant_density=plant_density,\n",
    "    inter_rows=inter_rows,\n",
    "    save_wheat_positions=True\n",
    ")\n",
    "\n",
    "wheat = Wheat_wrapper(name=wheat_name, in_folder=\"../inputs_fspmwheat\", planter=planter, indexer=indexer)\n",
    "legume = L_egume_wrapper(name=legume_name, in_folder=\"../inputs_soil_legume\", planter=planter, indexer=indexer)\n",
    "legume.derive(0)\n",
    "\n",
    "legume_scene_cm = legume.light_inputs(lightmodel=\"caribu\")\n",
    "\n",
    "scene = wheat.light_inputs(planter)[0] + scene_cm_tp_m(legume_scene_cm)"
   ]
  },
  {
   "cell_type": "code",
   "execution_count": 34,
   "id": "bdcf3834",
   "metadata": {
    "scrolled": true
   },
   "outputs": [
    {
     "data": {
      "application/vnd.jupyter.widget-view+json": {
       "model_id": "79ce13f52d4d4f70a7e376e7693fdf48",
       "version_major": 2,
       "version_minor": 0
      },
      "text/plain": [
       "SceneWidget(axes_helper=True, scenes=[{'id': 'CzPcqs0WCIVEKDc51KkTGBrWz', 'data': b'x\\xda\\xcd[\\x0ft\\x14\\xd5\\xb…"
      ]
     },
     "execution_count": 34,
     "metadata": {},
     "output_type": "execute_result"
    }
   ],
   "source": [
    "SceneWidget(scene, size_display=(600, 400), position=(-0.2, -0.2, 0.0), plane=True, size_world = 0.4, axes_helper=True)\n"
   ]
  },
  {
   "cell_type": "markdown",
   "id": "8d5381a8",
   "metadata": {},
   "source": [
    "### Autres combinaisons"
   ]
  },
  {
   "cell_type": "code",
   "execution_count": 35,
   "id": "1309667f",
   "metadata": {},
   "outputs": [],
   "source": [
    "def translate_scenes(scene, indice, transformations):\n",
    "    if indice in transformations[\"translate\"] :\n",
    "        new_scene = []\n",
    "        mat = pgl.Material((random.randint(0,255),random.randint(0,255),random.randint(0,255)))\n",
    "        for shape in scene:\n",
    "            new_scene.append(pgl.Shape(pgl.Translated(transformations[\"translate\"][indice], shape.geometry), mat, shape.id))\n",
    "        return pgl.Scene(new_scene)\n",
    "    else:\n",
    "        return scene"
   ]
  },
  {
   "cell_type": "code",
   "execution_count": 37,
   "id": "692f62ef",
   "metadata": {},
   "outputs": [
    {
     "data": {
      "application/vnd.jupyter.widget-view+json": {
       "model_id": "f661d89614624b5c956db620bb710ba2",
       "version_major": 2,
       "version_minor": 0
      },
      "text/plain": [
       "SceneWidget(axes_helper=True, scenes=[{'id': 'dKkIi6V7iscrYkj7jZcxvvYDW', 'data': b'x\\xda\\xd5]\\rx\\x15\\xc5\\xb9N…"
      ]
     },
     "execution_count": 37,
     "metadata": {},
     "output_type": "execute_result"
    }
   ],
   "source": [
    "wheat1_name = \"wheat1\"\n",
    "wheat2_name = \"wheat2\"\n",
    "order = [wheat1_name, wheat2_name]\n",
    "indexer = Indexer(global_order=order, wheat_names=[wheat1_name, wheat2_name])\n",
    "\n",
    "generation_type = \"row\"\n",
    "plant_density = {wheat1_name: 250, wheat2_name : 100}\n",
    "inter_rows = 0.10 # m\n",
    "\n",
    "planter = Planter(\n",
    "    generation_type=\"row\",\n",
    "    indexer=indexer,\n",
    "    plant_density=plant_density,\n",
    "    inter_rows=inter_rows,\n",
    "    save_wheat_positions=True\n",
    ")\n",
    "\n",
    "wheat1 = Wheat_wrapper(name=wheat1_name, in_folder=\"../inputs_fspmwheat\", planter=planter, indexer=indexer)\n",
    "wheat2 = Wheat_wrapper(name=wheat2_name, in_folder=\"../inputs_fspmwheat\", planter=planter, indexer=indexer)\n",
    "\n",
    "scenes = [wheat1.light_inputs(planter)[0] , wheat2.light_inputs(planter)[0]]\n",
    "final_scene = pgl.Scene()\n",
    "for i, scene in enumerate(scenes):\n",
    "    final_scene = final_scene + translate_scenes(scene, i, planter.transformations)\n",
    "\n",
    "SceneWidget(final_scene, size_display=(600, 400), position=(-0.2, -0.2, 0.0), plane=True, size_world = 0.5, axes_helper=True)"
   ]
  },
  {
   "cell_type": "code",
   "execution_count": 38,
   "id": "97cb5200",
   "metadata": {},
   "outputs": [
    {
     "name": "stderr",
     "output_type": "stream",
     "text": [
      "<string>:906: Warning: Found symbol '#' after Lstring. Considered as begining of comments\n",
      "<string>:923: Warning: Found symbol '#' after Lstring. Considered as begining of comments\n",
      "<string>:1213: Warning: Found symbol '#' after Lstring. Considered as begining of comments\n",
      "<string>:1271: Warning: Found symbol '#' after Lstring. Considered as begining of comments\n",
      "<string>:1293: Warning: Found symbol '#' after Lstring. Considered as begining of comments\n",
      "<string>:1743: Warning: Found symbol '#' after Lstring. Considered as begining of comments\n",
      "<string>:1821: Warning: Found symbol '#' after Lstring. Considered as begining of comments\n",
      "<string>:1962: Warning: Found symbol '#' after Lstring. Considered as begining of comments\n",
      "<string>:1976: Warning: Found symbol '#' after Lstring. Considered as begining of comments\n",
      "<string>:1977: Warning: Found symbol '#' after Lstring. Considered as begining of comments\n",
      "<string>:2022: Warning: Found symbol '#' after Lstring. Considered as begining of comments\n",
      "<string>:2024: Warning: Found symbol '#' after Lstring. Considered as begining of comments\n",
      "c:\\users\\mwoussen\\cdd\\codes\\lib\\l-egume\\legume\\run_legume_usm.py:61: Warning: Interpretation rules should be context free. Contexts not supported for multiple iterations.\n",
      "  testsim[name] = lpy.Lsystem(path_lsys)  # objet l-system\n",
      "<string>:2142: Warning: Found symbol '#' after Lstring. Considered as begining of comments\n",
      "<string>:2233: Warning: Found symbol '#' after Lstring. Considered as begining of comments\n"
     ]
    },
    {
     "name": "stdout",
     "output_type": "stream",
     "text": [
      "lspe ['Fix2', 'nonFixSimTest']\n",
      "carto 64 [array([ 1.25, 10.  ,  0.  ]), array([ 1.25, 50.  ,  0.  ]), array([ 3.75, 10.  ,  0.  ]), array([ 3.75, 50.  ,  0.  ]), array([ 6.25, 10.  ,  0.  ]), array([ 6.25, 50.  ,  0.  ]), array([ 8.75, 10.  ,  0.  ]), array([ 8.75, 50.  ,  0.  ]), array([11.25, 10.  ,  0.  ]), array([11.25, 50.  ,  0.  ]), array([13.75, 10.  ,  0.  ]), array([13.75, 50.  ,  0.  ]), array([16.25, 10.  ,  0.  ]), array([16.25, 50.  ,  0.  ]), array([18.75, 10.  ,  0.  ]), array([18.75, 50.  ,  0.  ]), array([21.25, 10.  ,  0.  ]), array([21.25, 50.  ,  0.  ]), array([23.75, 10.  ,  0.  ]), array([23.75, 50.  ,  0.  ]), array([26.25, 10.  ,  0.  ]), array([26.25, 50.  ,  0.  ]), array([28.75, 10.  ,  0.  ]), array([28.75, 50.  ,  0.  ]), array([31.25, 10.  ,  0.  ]), array([31.25, 50.  ,  0.  ]), array([33.75, 10.  ,  0.  ]), array([33.75, 50.  ,  0.  ]), array([36.25, 10.  ,  0.  ]), array([36.25, 50.  ,  0.  ]), array([38.75, 10.  ,  0.  ]), array([38.75, 50.  ,  0.  ]), array([41.25, 10.  ,  0.  ]), array([41.25, 50.  ,  0.  ]), array([43.75, 10.  ,  0.  ]), array([43.75, 50.  ,  0.  ]), array([46.25, 10.  ,  0.  ]), array([46.25, 50.  ,  0.  ]), array([48.75, 10.  ,  0.  ]), array([48.75, 50.  ,  0.  ]), array([51.25, 10.  ,  0.  ]), array([51.25, 50.  ,  0.  ]), array([53.75, 10.  ,  0.  ]), array([53.75, 50.  ,  0.  ]), array([56.25, 10.  ,  0.  ]), array([56.25, 50.  ,  0.  ]), array([58.75, 10.  ,  0.  ]), array([58.75, 50.  ,  0.  ]), array([61.25, 10.  ,  0.  ]), array([61.25, 50.  ,  0.  ]), array([63.75, 10.  ,  0.  ]), array([63.75, 50.  ,  0.  ]), array([66.25, 10.  ,  0.  ]), array([66.25, 50.  ,  0.  ]), array([68.75, 10.  ,  0.  ]), array([68.75, 50.  ,  0.  ]), array([71.25, 10.  ,  0.  ]), array([71.25, 50.  ,  0.  ]), array([73.75, 10.  ,  0.  ]), array([73.75, 50.  ,  0.  ]), array([76.25, 10.  ,  0.  ]), array([76.25, 50.  ,  0.  ]), array([78.75, 10.  ,  0.  ]), array([78.75, 50.  ,  0.  ])]\n",
      "soil init [16.0, 16.0, 16.0, 16.0, 16.0, 16.0, 16.0, 16.0] [0.1, 0.1, 0.1, 0.1, 0.1, 0.1, 0.1, 0.1] [[0.3333333333333333, 0.3333333333333333, 0.3333333333333333, 0.0, 0.0, 0.0, 0.0, 0.0, 0.0, 0.0, 0.0, 0.0, 0.0, 0.0, 0.0, 0.0, 0.0, 0.0, 0.0, 0.0, 0.0, 0.0, 0.0, 0.0, 0.0, 0.0, 0.0, 0.0, 0.0, 0.0, 0.0, 0.0, 0.0, 0.0, 0.0, 0.0, 0.0, 0.0, 0.0, 0.0, 0.0, 0.0, 0.0, 0.0, 0.0, 0.0, 0.0, 0.0, 0.0, 0.0, 0.0, 0.0, 0.0], [0.3333333333333333, 0.3333333333333333, 0.3333333333333333, 0.0, 0.0, 0.0, 0.0, 0.0, 0.0, 0.0, 0.0, 0.0, 0.0, 0.0, 0.0, 0.0, 0.0, 0.0, 0.0, 0.0, 0.0, 0.0, 0.0, 0.0, 0.0, 0.0, 0.0, 0.0, 0.0, 0.0, 0.0, 0.0, 0.0, 0.0, 0.0, 0.0, 0.0, 0.0, 0.0, 0.0, 0.0, 0.0, 0.0, 0.0, 0.0, 0.0, 0.0, 0.0, 0.0, 0.0, 0.0, 0.0, 0.0], [0.3333333333333333, 0.3333333333333333, 0.3333333333333333, 0.0, 0.0, 0.0, 0.0, 0.0, 0.0, 0.0, 0.0, 0.0, 0.0, 0.0, 0.0, 0.0, 0.0, 0.0, 0.0, 0.0, 0.0, 0.0, 0.0, 0.0, 0.0, 0.0, 0.0, 0.0, 0.0, 0.0, 0.0, 0.0, 0.0, 0.0, 0.0, 0.0, 0.0, 0.0, 0.0, 0.0, 0.0, 0.0, 0.0, 0.0, 0.0, 0.0, 0.0, 0.0, 0.0, 0.0, 0.0, 0.0, 0.0], [0.3333333333333333, 0.3333333333333333, 0.3333333333333333, 0.0, 0.0, 0.0, 0.0, 0.0, 0.0, 0.0, 0.0, 0.0, 0.0, 0.0, 0.0, 0.0, 0.0, 0.0, 0.0, 0.0, 0.0, 0.0, 0.0, 0.0, 0.0, 0.0, 0.0, 0.0, 0.0, 0.0, 0.0, 0.0, 0.0, 0.0, 0.0, 0.0, 0.0, 0.0, 0.0, 0.0, 0.0, 0.0, 0.0, 0.0, 0.0, 0.0, 0.0, 0.0, 0.0, 0.0, 0.0, 0.0, 0.0], [0.3333333333333333, 0.3333333333333333, 0.3333333333333333, 0.0, 0.0, 0.0, 0.0, 0.0, 0.0, 0.0, 0.0, 0.0, 0.0, 0.0, 0.0, 0.0, 0.0, 0.0, 0.0, 0.0, 0.0, 0.0, 0.0, 0.0, 0.0, 0.0, 0.0, 0.0, 0.0, 0.0, 0.0, 0.0, 0.0, 0.0, 0.0, 0.0, 0.0, 0.0, 0.0, 0.0, 0.0, 0.0, 0.0, 0.0, 0.0, 0.0, 0.0, 0.0, 0.0, 0.0, 0.0, 0.0, 0.0], [0.3333333333333333, 0.3333333333333333, 0.3333333333333333, 0.0, 0.0, 0.0, 0.0, 0.0, 0.0, 0.0, 0.0, 0.0, 0.0, 0.0, 0.0, 0.0, 0.0, 0.0, 0.0, 0.0, 0.0, 0.0, 0.0, 0.0, 0.0, 0.0, 0.0, 0.0, 0.0, 0.0, 0.0, 0.0, 0.0, 0.0, 0.0, 0.0, 0.0, 0.0, 0.0, 0.0, 0.0, 0.0, 0.0, 0.0, 0.0, 0.0, 0.0, 0.0, 0.0, 0.0, 0.0, 0.0, 0.0], [0.3333333333333333, 0.3333333333333333, 0.3333333333333333, 0.0, 0.0, 0.0, 0.0, 0.0, 0.0, 0.0, 0.0, 0.0, 0.0, 0.0, 0.0, 0.0, 0.0, 0.0, 0.0, 0.0, 0.0, 0.0, 0.0, 0.0, 0.0, 0.0, 0.0, 0.0, 0.0, 0.0, 0.0, 0.0, 0.0, 0.0, 0.0, 0.0, 0.0, 0.0, 0.0, 0.0, 0.0, 0.0, 0.0, 0.0, 0.0, 0.0, 0.0, 0.0, 0.0, 0.0, 0.0, 0.0, 0.0], [0.3333333333333333, 0.3333333333333333, 0.3333333333333333, 0.0, 0.0, 0.0, 0.0, 0.0, 0.0, 0.0, 0.0, 0.0, 0.0, 0.0, 0.0, 0.0, 0.0, 0.0, 0.0, 0.0, 0.0, 0.0, 0.0, 0.0, 0.0, 0.0, 0.0, 0.0, 0.0, 0.0, 0.0, 0.0, 0.0, 0.0, 0.0, 0.0, 0.0, 0.0, 0.0, 0.0, 0.0, 0.0, 0.0, 0.0, 0.0, 0.0, 0.0, 0.0, 0.0, 0.0, 0.0, 0.0, 0.0]] [0.7, 0.7, 0.7, 0.7, 0.7, 0.7, 0.7, 0.7] [0.42, 0.42, 0.42, 0.42, 0.42, 0.42, 0.42, 0.42]\n",
      "ls_CRES (8, 30, 5, 5)\n",
      "ls_CBio (8, 30, 5, 5)\n",
      "parResi {'CNRESt': [16.0, 16.0, 16.0, 16.0, 16.0, 16.0, 16.0, 16.0], 'CNBio': [8.412500000000001, 8.412500000000001, 8.412500000000001, 8.412500000000001, 8.412500000000001, 8.412500000000001, 8.412500000000001, 8.412500000000001], 'KRES': [0.19125, 0.19125, 0.19125, 0.19125, 0.19125, 0.19125, 0.19125, 0.19125], 'YRES': [0.62, 0.62, 0.62, 0.62, 0.62, 0.62, 0.62, 0.62], 'KBio': [0.011, 0.011, 0.011, 0.011, 0.011, 0.011, 0.011, 0.011], 'HRES': [0.5941176470588235, 0.5941176470588235, 0.5941176470588235, 0.5941176470588235, 0.5941176470588235, 0.5941176470588235, 0.5941176470588235, 0.5941176470588235], 'TRefg': 15.0, 'FTEMHAg': 12.0, 'FTEMHg': 0.103, 'FTEMHB': 52.0}\n",
      "61\n"
     ]
    },
    {
     "name": "stderr",
     "output_type": "stream",
     "text": [
      "c:\\users\\mwoussen\\cdd\\codes\\lib\\soil3ds\\soil3ds\\soil_moduleN.py:315: RuntimeWarning: invalid value encountered in true_divide\n",
      "  ls_concN = list(map(np.divide, list(map(np.sum, ls_masked_moleN)), list(map(np.sum, ls_vol_eau))))\n",
      "<string>:906: Warning: Found symbol '#' after Lstring. Considered as begining of comments\n",
      "<string>:923: Warning: Found symbol '#' after Lstring. Considered as begining of comments\n",
      "<string>:1213: Warning: Found symbol '#' after Lstring. Considered as begining of comments\n",
      "<string>:1271: Warning: Found symbol '#' after Lstring. Considered as begining of comments\n",
      "<string>:1293: Warning: Found symbol '#' after Lstring. Considered as begining of comments\n",
      "<string>:1743: Warning: Found symbol '#' after Lstring. Considered as begining of comments\n",
      "<string>:1821: Warning: Found symbol '#' after Lstring. Considered as begining of comments\n",
      "<string>:1962: Warning: Found symbol '#' after Lstring. Considered as begining of comments\n",
      "<string>:1976: Warning: Found symbol '#' after Lstring. Considered as begining of comments\n",
      "<string>:1977: Warning: Found symbol '#' after Lstring. Considered as begining of comments\n",
      "<string>:2022: Warning: Found symbol '#' after Lstring. Considered as begining of comments\n",
      "<string>:2024: Warning: Found symbol '#' after Lstring. Considered as begining of comments\n",
      "c:\\users\\mwoussen\\cdd\\codes\\lib\\l-egume\\legume\\run_legume_usm.py:61: Warning: Interpretation rules should be context free. Contexts not supported for multiple iterations.\n",
      "  testsim[name] = lpy.Lsystem(path_lsys)  # objet l-system\n",
      "<string>:2142: Warning: Found symbol '#' after Lstring. Considered as begining of comments\n",
      "<string>:2233: Warning: Found symbol '#' after Lstring. Considered as begining of comments\n"
     ]
    },
    {
     "name": "stdout",
     "output_type": "stream",
     "text": [
      "lspe ['Fix2', 'nonFixSimTest']\n",
      "carto 64 [array([ 1.25, 10.  ,  0.  ]), array([ 1.25, 50.  ,  0.  ]), array([ 3.75, 10.  ,  0.  ]), array([ 3.75, 50.  ,  0.  ]), array([ 6.25, 10.  ,  0.  ]), array([ 6.25, 50.  ,  0.  ]), array([ 8.75, 10.  ,  0.  ]), array([ 8.75, 50.  ,  0.  ]), array([11.25, 10.  ,  0.  ]), array([11.25, 50.  ,  0.  ]), array([13.75, 10.  ,  0.  ]), array([13.75, 50.  ,  0.  ]), array([16.25, 10.  ,  0.  ]), array([16.25, 50.  ,  0.  ]), array([18.75, 10.  ,  0.  ]), array([18.75, 50.  ,  0.  ]), array([21.25, 10.  ,  0.  ]), array([21.25, 50.  ,  0.  ]), array([23.75, 10.  ,  0.  ]), array([23.75, 50.  ,  0.  ]), array([26.25, 10.  ,  0.  ]), array([26.25, 50.  ,  0.  ]), array([28.75, 10.  ,  0.  ]), array([28.75, 50.  ,  0.  ]), array([31.25, 10.  ,  0.  ]), array([31.25, 50.  ,  0.  ]), array([33.75, 10.  ,  0.  ]), array([33.75, 50.  ,  0.  ]), array([36.25, 10.  ,  0.  ]), array([36.25, 50.  ,  0.  ]), array([38.75, 10.  ,  0.  ]), array([38.75, 50.  ,  0.  ]), array([41.25, 10.  ,  0.  ]), array([41.25, 50.  ,  0.  ]), array([43.75, 10.  ,  0.  ]), array([43.75, 50.  ,  0.  ]), array([46.25, 10.  ,  0.  ]), array([46.25, 50.  ,  0.  ]), array([48.75, 10.  ,  0.  ]), array([48.75, 50.  ,  0.  ]), array([51.25, 10.  ,  0.  ]), array([51.25, 50.  ,  0.  ]), array([53.75, 10.  ,  0.  ]), array([53.75, 50.  ,  0.  ]), array([56.25, 10.  ,  0.  ]), array([56.25, 50.  ,  0.  ]), array([58.75, 10.  ,  0.  ]), array([58.75, 50.  ,  0.  ]), array([61.25, 10.  ,  0.  ]), array([61.25, 50.  ,  0.  ]), array([63.75, 10.  ,  0.  ]), array([63.75, 50.  ,  0.  ]), array([66.25, 10.  ,  0.  ]), array([66.25, 50.  ,  0.  ]), array([68.75, 10.  ,  0.  ]), array([68.75, 50.  ,  0.  ]), array([71.25, 10.  ,  0.  ]), array([71.25, 50.  ,  0.  ]), array([73.75, 10.  ,  0.  ]), array([73.75, 50.  ,  0.  ]), array([76.25, 10.  ,  0.  ]), array([76.25, 50.  ,  0.  ]), array([78.75, 10.  ,  0.  ]), array([78.75, 50.  ,  0.  ])]\n",
      "soil init [16.0, 16.0, 16.0, 16.0, 16.0, 16.0, 16.0, 16.0] [0.1, 0.1, 0.1, 0.1, 0.1, 0.1, 0.1, 0.1] [[0.3333333333333333, 0.3333333333333333, 0.3333333333333333, 0.0, 0.0, 0.0, 0.0, 0.0, 0.0, 0.0, 0.0, 0.0, 0.0, 0.0, 0.0, 0.0, 0.0, 0.0, 0.0, 0.0, 0.0, 0.0, 0.0, 0.0, 0.0, 0.0, 0.0, 0.0, 0.0, 0.0, 0.0, 0.0, 0.0, 0.0, 0.0, 0.0, 0.0, 0.0, 0.0, 0.0, 0.0, 0.0, 0.0, 0.0, 0.0, 0.0, 0.0, 0.0, 0.0, 0.0, 0.0, 0.0, 0.0], [0.3333333333333333, 0.3333333333333333, 0.3333333333333333, 0.0, 0.0, 0.0, 0.0, 0.0, 0.0, 0.0, 0.0, 0.0, 0.0, 0.0, 0.0, 0.0, 0.0, 0.0, 0.0, 0.0, 0.0, 0.0, 0.0, 0.0, 0.0, 0.0, 0.0, 0.0, 0.0, 0.0, 0.0, 0.0, 0.0, 0.0, 0.0, 0.0, 0.0, 0.0, 0.0, 0.0, 0.0, 0.0, 0.0, 0.0, 0.0, 0.0, 0.0, 0.0, 0.0, 0.0, 0.0, 0.0, 0.0], [0.3333333333333333, 0.3333333333333333, 0.3333333333333333, 0.0, 0.0, 0.0, 0.0, 0.0, 0.0, 0.0, 0.0, 0.0, 0.0, 0.0, 0.0, 0.0, 0.0, 0.0, 0.0, 0.0, 0.0, 0.0, 0.0, 0.0, 0.0, 0.0, 0.0, 0.0, 0.0, 0.0, 0.0, 0.0, 0.0, 0.0, 0.0, 0.0, 0.0, 0.0, 0.0, 0.0, 0.0, 0.0, 0.0, 0.0, 0.0, 0.0, 0.0, 0.0, 0.0, 0.0, 0.0, 0.0, 0.0], [0.3333333333333333, 0.3333333333333333, 0.3333333333333333, 0.0, 0.0, 0.0, 0.0, 0.0, 0.0, 0.0, 0.0, 0.0, 0.0, 0.0, 0.0, 0.0, 0.0, 0.0, 0.0, 0.0, 0.0, 0.0, 0.0, 0.0, 0.0, 0.0, 0.0, 0.0, 0.0, 0.0, 0.0, 0.0, 0.0, 0.0, 0.0, 0.0, 0.0, 0.0, 0.0, 0.0, 0.0, 0.0, 0.0, 0.0, 0.0, 0.0, 0.0, 0.0, 0.0, 0.0, 0.0, 0.0, 0.0], [0.3333333333333333, 0.3333333333333333, 0.3333333333333333, 0.0, 0.0, 0.0, 0.0, 0.0, 0.0, 0.0, 0.0, 0.0, 0.0, 0.0, 0.0, 0.0, 0.0, 0.0, 0.0, 0.0, 0.0, 0.0, 0.0, 0.0, 0.0, 0.0, 0.0, 0.0, 0.0, 0.0, 0.0, 0.0, 0.0, 0.0, 0.0, 0.0, 0.0, 0.0, 0.0, 0.0, 0.0, 0.0, 0.0, 0.0, 0.0, 0.0, 0.0, 0.0, 0.0, 0.0, 0.0, 0.0, 0.0], [0.3333333333333333, 0.3333333333333333, 0.3333333333333333, 0.0, 0.0, 0.0, 0.0, 0.0, 0.0, 0.0, 0.0, 0.0, 0.0, 0.0, 0.0, 0.0, 0.0, 0.0, 0.0, 0.0, 0.0, 0.0, 0.0, 0.0, 0.0, 0.0, 0.0, 0.0, 0.0, 0.0, 0.0, 0.0, 0.0, 0.0, 0.0, 0.0, 0.0, 0.0, 0.0, 0.0, 0.0, 0.0, 0.0, 0.0, 0.0, 0.0, 0.0, 0.0, 0.0, 0.0, 0.0, 0.0, 0.0], [0.3333333333333333, 0.3333333333333333, 0.3333333333333333, 0.0, 0.0, 0.0, 0.0, 0.0, 0.0, 0.0, 0.0, 0.0, 0.0, 0.0, 0.0, 0.0, 0.0, 0.0, 0.0, 0.0, 0.0, 0.0, 0.0, 0.0, 0.0, 0.0, 0.0, 0.0, 0.0, 0.0, 0.0, 0.0, 0.0, 0.0, 0.0, 0.0, 0.0, 0.0, 0.0, 0.0, 0.0, 0.0, 0.0, 0.0, 0.0, 0.0, 0.0, 0.0, 0.0, 0.0, 0.0, 0.0, 0.0], [0.3333333333333333, 0.3333333333333333, 0.3333333333333333, 0.0, 0.0, 0.0, 0.0, 0.0, 0.0, 0.0, 0.0, 0.0, 0.0, 0.0, 0.0, 0.0, 0.0, 0.0, 0.0, 0.0, 0.0, 0.0, 0.0, 0.0, 0.0, 0.0, 0.0, 0.0, 0.0, 0.0, 0.0, 0.0, 0.0, 0.0, 0.0, 0.0, 0.0, 0.0, 0.0, 0.0, 0.0, 0.0, 0.0, 0.0, 0.0, 0.0, 0.0, 0.0, 0.0, 0.0, 0.0, 0.0, 0.0]] [0.7, 0.7, 0.7, 0.7, 0.7, 0.7, 0.7, 0.7] [0.42, 0.42, 0.42, 0.42, 0.42, 0.42, 0.42, 0.42]\n",
      "ls_CRES (8, 30, 5, 5)\n",
      "ls_CBio (8, 30, 5, 5)\n",
      "parResi {'CNRESt': [16.0, 16.0, 16.0, 16.0, 16.0, 16.0, 16.0, 16.0], 'CNBio': [8.412500000000001, 8.412500000000001, 8.412500000000001, 8.412500000000001, 8.412500000000001, 8.412500000000001, 8.412500000000001, 8.412500000000001], 'KRES': [0.19125, 0.19125, 0.19125, 0.19125, 0.19125, 0.19125, 0.19125, 0.19125], 'YRES': [0.62, 0.62, 0.62, 0.62, 0.62, 0.62, 0.62, 0.62], 'KBio': [0.011, 0.011, 0.011, 0.011, 0.011, 0.011, 0.011, 0.011], 'HRES': [0.5941176470588235, 0.5941176470588235, 0.5941176470588235, 0.5941176470588235, 0.5941176470588235, 0.5941176470588235, 0.5941176470588235, 0.5941176470588235], 'TRefg': 15.0, 'FTEMHAg': 12.0, 'FTEMHg': 0.103, 'FTEMHB': 52.0}\n",
      "61\n",
      "lspe ['Fix2', 'nonFixSimTest']\n"
     ]
    },
    {
     "name": "stderr",
     "output_type": "stream",
     "text": [
      "c:\\users\\mwoussen\\cdd\\codes\\lib\\soil3ds\\soil3ds\\soil_moduleN.py:315: RuntimeWarning: invalid value encountered in true_divide\n",
      "  ls_concN = list(map(np.divide, list(map(np.sum, ls_masked_moleN)), list(map(np.sum, ls_vol_eau))))\n"
     ]
    },
    {
     "name": "stdout",
     "output_type": "stream",
     "text": [
      "carto 64 [array([ 1.25, 10.  ,  0.  ]), array([ 1.25, 50.  ,  0.  ]), array([ 3.75, 10.  ,  0.  ]), array([ 3.75, 50.  ,  0.  ]), array([ 6.25, 10.  ,  0.  ]), array([ 6.25, 50.  ,  0.  ]), array([ 8.75, 10.  ,  0.  ]), array([ 8.75, 50.  ,  0.  ]), array([11.25, 10.  ,  0.  ]), array([11.25, 50.  ,  0.  ]), array([13.75, 10.  ,  0.  ]), array([13.75, 50.  ,  0.  ]), array([16.25, 10.  ,  0.  ]), array([16.25, 50.  ,  0.  ]), array([18.75, 10.  ,  0.  ]), array([18.75, 50.  ,  0.  ]), array([21.25, 10.  ,  0.  ]), array([21.25, 50.  ,  0.  ]), array([23.75, 10.  ,  0.  ]), array([23.75, 50.  ,  0.  ]), array([26.25, 10.  ,  0.  ]), array([26.25, 50.  ,  0.  ]), array([28.75, 10.  ,  0.  ]), array([28.75, 50.  ,  0.  ]), array([31.25, 10.  ,  0.  ]), array([31.25, 50.  ,  0.  ]), array([33.75, 10.  ,  0.  ]), array([33.75, 50.  ,  0.  ]), array([36.25, 10.  ,  0.  ]), array([36.25, 50.  ,  0.  ]), array([38.75, 10.  ,  0.  ]), array([38.75, 50.  ,  0.  ]), array([41.25, 10.  ,  0.  ]), array([41.25, 50.  ,  0.  ]), array([43.75, 10.  ,  0.  ]), array([43.75, 50.  ,  0.  ]), array([46.25, 10.  ,  0.  ]), array([46.25, 50.  ,  0.  ]), array([48.75, 10.  ,  0.  ]), array([48.75, 50.  ,  0.  ]), array([51.25, 10.  ,  0.  ]), array([51.25, 50.  ,  0.  ]), array([53.75, 10.  ,  0.  ]), array([53.75, 50.  ,  0.  ]), array([56.25, 10.  ,  0.  ]), array([56.25, 50.  ,  0.  ]), array([58.75, 10.  ,  0.  ]), array([58.75, 50.  ,  0.  ]), array([61.25, 10.  ,  0.  ]), array([61.25, 50.  ,  0.  ]), array([63.75, 10.  ,  0.  ]), array([63.75, 50.  ,  0.  ]), array([66.25, 10.  ,  0.  ]), array([66.25, 50.  ,  0.  ]), array([68.75, 10.  ,  0.  ]), array([68.75, 50.  ,  0.  ]), array([71.25, 10.  ,  0.  ]), array([71.25, 50.  ,  0.  ]), array([73.75, 10.  ,  0.  ]), array([73.75, 50.  ,  0.  ]), array([76.25, 10.  ,  0.  ]), array([76.25, 50.  ,  0.  ]), array([78.75, 10.  ,  0.  ]), array([78.75, 50.  ,  0.  ])]\n",
      "soil init [16.0, 16.0, 16.0, 16.0, 16.0, 16.0, 16.0, 16.0] [0.1, 0.1, 0.1, 0.1, 0.1, 0.1, 0.1, 0.1] [[0.3333333333333333, 0.3333333333333333, 0.3333333333333333, 0.0, 0.0, 0.0, 0.0, 0.0, 0.0, 0.0, 0.0, 0.0, 0.0, 0.0, 0.0, 0.0, 0.0, 0.0, 0.0, 0.0, 0.0, 0.0, 0.0, 0.0, 0.0, 0.0, 0.0, 0.0, 0.0, 0.0, 0.0, 0.0, 0.0, 0.0, 0.0, 0.0, 0.0, 0.0, 0.0, 0.0, 0.0, 0.0, 0.0, 0.0, 0.0, 0.0, 0.0, 0.0, 0.0, 0.0, 0.0, 0.0, 0.0], [0.3333333333333333, 0.3333333333333333, 0.3333333333333333, 0.0, 0.0, 0.0, 0.0, 0.0, 0.0, 0.0, 0.0, 0.0, 0.0, 0.0, 0.0, 0.0, 0.0, 0.0, 0.0, 0.0, 0.0, 0.0, 0.0, 0.0, 0.0, 0.0, 0.0, 0.0, 0.0, 0.0, 0.0, 0.0, 0.0, 0.0, 0.0, 0.0, 0.0, 0.0, 0.0, 0.0, 0.0, 0.0, 0.0, 0.0, 0.0, 0.0, 0.0, 0.0, 0.0, 0.0, 0.0, 0.0, 0.0], [0.3333333333333333, 0.3333333333333333, 0.3333333333333333, 0.0, 0.0, 0.0, 0.0, 0.0, 0.0, 0.0, 0.0, 0.0, 0.0, 0.0, 0.0, 0.0, 0.0, 0.0, 0.0, 0.0, 0.0, 0.0, 0.0, 0.0, 0.0, 0.0, 0.0, 0.0, 0.0, 0.0, 0.0, 0.0, 0.0, 0.0, 0.0, 0.0, 0.0, 0.0, 0.0, 0.0, 0.0, 0.0, 0.0, 0.0, 0.0, 0.0, 0.0, 0.0, 0.0, 0.0, 0.0, 0.0, 0.0], [0.3333333333333333, 0.3333333333333333, 0.3333333333333333, 0.0, 0.0, 0.0, 0.0, 0.0, 0.0, 0.0, 0.0, 0.0, 0.0, 0.0, 0.0, 0.0, 0.0, 0.0, 0.0, 0.0, 0.0, 0.0, 0.0, 0.0, 0.0, 0.0, 0.0, 0.0, 0.0, 0.0, 0.0, 0.0, 0.0, 0.0, 0.0, 0.0, 0.0, 0.0, 0.0, 0.0, 0.0, 0.0, 0.0, 0.0, 0.0, 0.0, 0.0, 0.0, 0.0, 0.0, 0.0, 0.0, 0.0], [0.3333333333333333, 0.3333333333333333, 0.3333333333333333, 0.0, 0.0, 0.0, 0.0, 0.0, 0.0, 0.0, 0.0, 0.0, 0.0, 0.0, 0.0, 0.0, 0.0, 0.0, 0.0, 0.0, 0.0, 0.0, 0.0, 0.0, 0.0, 0.0, 0.0, 0.0, 0.0, 0.0, 0.0, 0.0, 0.0, 0.0, 0.0, 0.0, 0.0, 0.0, 0.0, 0.0, 0.0, 0.0, 0.0, 0.0, 0.0, 0.0, 0.0, 0.0, 0.0, 0.0, 0.0, 0.0, 0.0], [0.3333333333333333, 0.3333333333333333, 0.3333333333333333, 0.0, 0.0, 0.0, 0.0, 0.0, 0.0, 0.0, 0.0, 0.0, 0.0, 0.0, 0.0, 0.0, 0.0, 0.0, 0.0, 0.0, 0.0, 0.0, 0.0, 0.0, 0.0, 0.0, 0.0, 0.0, 0.0, 0.0, 0.0, 0.0, 0.0, 0.0, 0.0, 0.0, 0.0, 0.0, 0.0, 0.0, 0.0, 0.0, 0.0, 0.0, 0.0, 0.0, 0.0, 0.0, 0.0, 0.0, 0.0, 0.0, 0.0], [0.3333333333333333, 0.3333333333333333, 0.3333333333333333, 0.0, 0.0, 0.0, 0.0, 0.0, 0.0, 0.0, 0.0, 0.0, 0.0, 0.0, 0.0, 0.0, 0.0, 0.0, 0.0, 0.0, 0.0, 0.0, 0.0, 0.0, 0.0, 0.0, 0.0, 0.0, 0.0, 0.0, 0.0, 0.0, 0.0, 0.0, 0.0, 0.0, 0.0, 0.0, 0.0, 0.0, 0.0, 0.0, 0.0, 0.0, 0.0, 0.0, 0.0, 0.0, 0.0, 0.0, 0.0, 0.0, 0.0], [0.3333333333333333, 0.3333333333333333, 0.3333333333333333, 0.0, 0.0, 0.0, 0.0, 0.0, 0.0, 0.0, 0.0, 0.0, 0.0, 0.0, 0.0, 0.0, 0.0, 0.0, 0.0, 0.0, 0.0, 0.0, 0.0, 0.0, 0.0, 0.0, 0.0, 0.0, 0.0, 0.0, 0.0, 0.0, 0.0, 0.0, 0.0, 0.0, 0.0, 0.0, 0.0, 0.0, 0.0, 0.0, 0.0, 0.0, 0.0, 0.0, 0.0, 0.0, 0.0, 0.0, 0.0, 0.0, 0.0]] [0.7, 0.7, 0.7, 0.7, 0.7, 0.7, 0.7, 0.7] [0.42, 0.42, 0.42, 0.42, 0.42, 0.42, 0.42, 0.42]\n",
      "ls_CRES (8, 30, 5, 5)\n",
      "ls_CBio (8, 30, 5, 5)\n",
      "parResi {'CNRESt': [16.0, 16.0, 16.0, 16.0, 16.0, 16.0, 16.0, 16.0], 'CNBio': [8.412500000000001, 8.412500000000001, 8.412500000000001, 8.412500000000001, 8.412500000000001, 8.412500000000001, 8.412500000000001, 8.412500000000001], 'KRES': [0.19125, 0.19125, 0.19125, 0.19125, 0.19125, 0.19125, 0.19125, 0.19125], 'YRES': [0.62, 0.62, 0.62, 0.62, 0.62, 0.62, 0.62, 0.62], 'KBio': [0.011, 0.011, 0.011, 0.011, 0.011, 0.011, 0.011, 0.011], 'HRES': [0.5941176470588235, 0.5941176470588235, 0.5941176470588235, 0.5941176470588235, 0.5941176470588235, 0.5941176470588235, 0.5941176470588235, 0.5941176470588235], 'TRefg': 15.0, 'FTEMHAg': 12.0, 'FTEMHg': 0.103, 'FTEMHB': 52.0}\n",
      "61\n",
      "lspe ['Fix2', 'nonFixSimTest']\n",
      "carto 64 [array([ 1.25, 10.  ,  0.  ]), array([ 1.25, 50.  ,  0.  ]), array([ 3.75, 10.  ,  0.  ]), array([ 3.75, 50.  ,  0.  ]), array([ 6.25, 10.  ,  0.  ]), array([ 6.25, 50.  ,  0.  ]), array([ 8.75, 10.  ,  0.  ]), array([ 8.75, 50.  ,  0.  ]), array([11.25, 10.  ,  0.  ]), array([11.25, 50.  ,  0.  ]), array([13.75, 10.  ,  0.  ]), array([13.75, 50.  ,  0.  ]), array([16.25, 10.  ,  0.  ]), array([16.25, 50.  ,  0.  ]), array([18.75, 10.  ,  0.  ]), array([18.75, 50.  ,  0.  ]), array([21.25, 10.  ,  0.  ]), array([21.25, 50.  ,  0.  ]), array([23.75, 10.  ,  0.  ]), array([23.75, 50.  ,  0.  ]), array([26.25, 10.  ,  0.  ]), array([26.25, 50.  ,  0.  ]), array([28.75, 10.  ,  0.  ]), array([28.75, 50.  ,  0.  ]), array([31.25, 10.  ,  0.  ]), array([31.25, 50.  ,  0.  ]), array([33.75, 10.  ,  0.  ]), array([33.75, 50.  ,  0.  ]), array([36.25, 10.  ,  0.  ]), array([36.25, 50.  ,  0.  ]), array([38.75, 10.  ,  0.  ]), array([38.75, 50.  ,  0.  ]), array([41.25, 10.  ,  0.  ]), array([41.25, 50.  ,  0.  ]), array([43.75, 10.  ,  0.  ]), array([43.75, 50.  ,  0.  ]), array([46.25, 10.  ,  0.  ]), array([46.25, 50.  ,  0.  ]), array([48.75, 10.  ,  0.  ]), array([48.75, 50.  ,  0.  ]), array([51.25, 10.  ,  0.  ]), array([51.25, 50.  ,  0.  ]), array([53.75, 10.  ,  0.  ]), array([53.75, 50.  ,  0.  ]), array([56.25, 10.  ,  0.  ]), array([56.25, 50.  ,  0.  ]), array([58.75, 10.  ,  0.  ]), array([58.75, 50.  ,  0.  ]), array([61.25, 10.  ,  0.  ]), array([61.25, 50.  ,  0.  ]), array([63.75, 10.  ,  0.  ]), array([63.75, 50.  ,  0.  ]), array([66.25, 10.  ,  0.  ]), array([66.25, 50.  ,  0.  ]), array([68.75, 10.  ,  0.  ]), array([68.75, 50.  ,  0.  ]), array([71.25, 10.  ,  0.  ]), array([71.25, 50.  ,  0.  ]), array([73.75, 10.  ,  0.  ]), array([73.75, 50.  ,  0.  ]), array([76.25, 10.  ,  0.  ]), array([76.25, 50.  ,  0.  ]), array([78.75, 10.  ,  0.  ]), array([78.75, 50.  ,  0.  ])]\n",
      "soil init [16.0, 16.0, 16.0, 16.0, 16.0, 16.0, 16.0, 16.0] [0.1, 0.1, 0.1, 0.1, 0.1, 0.1, 0.1, 0.1] [[0.3333333333333333, 0.3333333333333333, 0.3333333333333333, 0.0, 0.0, 0.0, 0.0, 0.0, 0.0, 0.0, 0.0, 0.0, 0.0, 0.0, 0.0, 0.0, 0.0, 0.0, 0.0, 0.0, 0.0, 0.0, 0.0, 0.0, 0.0, 0.0, 0.0, 0.0, 0.0, 0.0, 0.0, 0.0, 0.0, 0.0, 0.0, 0.0, 0.0, 0.0, 0.0, 0.0, 0.0, 0.0, 0.0, 0.0, 0.0, 0.0, 0.0, 0.0, 0.0, 0.0, 0.0, 0.0, 0.0], [0.3333333333333333, 0.3333333333333333, 0.3333333333333333, 0.0, 0.0, 0.0, 0.0, 0.0, 0.0, 0.0, 0.0, 0.0, 0.0, 0.0, 0.0, 0.0, 0.0, 0.0, 0.0, 0.0, 0.0, 0.0, 0.0, 0.0, 0.0, 0.0, 0.0, 0.0, 0.0, 0.0, 0.0, 0.0, 0.0, 0.0, 0.0, 0.0, 0.0, 0.0, 0.0, 0.0, 0.0, 0.0, 0.0, 0.0, 0.0, 0.0, 0.0, 0.0, 0.0, 0.0, 0.0, 0.0, 0.0], [0.3333333333333333, 0.3333333333333333, 0.3333333333333333, 0.0, 0.0, 0.0, 0.0, 0.0, 0.0, 0.0, 0.0, 0.0, 0.0, 0.0, 0.0, 0.0, 0.0, 0.0, 0.0, 0.0, 0.0, 0.0, 0.0, 0.0, 0.0, 0.0, 0.0, 0.0, 0.0, 0.0, 0.0, 0.0, 0.0, 0.0, 0.0, 0.0, 0.0, 0.0, 0.0, 0.0, 0.0, 0.0, 0.0, 0.0, 0.0, 0.0, 0.0, 0.0, 0.0, 0.0, 0.0, 0.0, 0.0], [0.3333333333333333, 0.3333333333333333, 0.3333333333333333, 0.0, 0.0, 0.0, 0.0, 0.0, 0.0, 0.0, 0.0, 0.0, 0.0, 0.0, 0.0, 0.0, 0.0, 0.0, 0.0, 0.0, 0.0, 0.0, 0.0, 0.0, 0.0, 0.0, 0.0, 0.0, 0.0, 0.0, 0.0, 0.0, 0.0, 0.0, 0.0, 0.0, 0.0, 0.0, 0.0, 0.0, 0.0, 0.0, 0.0, 0.0, 0.0, 0.0, 0.0, 0.0, 0.0, 0.0, 0.0, 0.0, 0.0], [0.3333333333333333, 0.3333333333333333, 0.3333333333333333, 0.0, 0.0, 0.0, 0.0, 0.0, 0.0, 0.0, 0.0, 0.0, 0.0, 0.0, 0.0, 0.0, 0.0, 0.0, 0.0, 0.0, 0.0, 0.0, 0.0, 0.0, 0.0, 0.0, 0.0, 0.0, 0.0, 0.0, 0.0, 0.0, 0.0, 0.0, 0.0, 0.0, 0.0, 0.0, 0.0, 0.0, 0.0, 0.0, 0.0, 0.0, 0.0, 0.0, 0.0, 0.0, 0.0, 0.0, 0.0, 0.0, 0.0], [0.3333333333333333, 0.3333333333333333, 0.3333333333333333, 0.0, 0.0, 0.0, 0.0, 0.0, 0.0, 0.0, 0.0, 0.0, 0.0, 0.0, 0.0, 0.0, 0.0, 0.0, 0.0, 0.0, 0.0, 0.0, 0.0, 0.0, 0.0, 0.0, 0.0, 0.0, 0.0, 0.0, 0.0, 0.0, 0.0, 0.0, 0.0, 0.0, 0.0, 0.0, 0.0, 0.0, 0.0, 0.0, 0.0, 0.0, 0.0, 0.0, 0.0, 0.0, 0.0, 0.0, 0.0, 0.0, 0.0], [0.3333333333333333, 0.3333333333333333, 0.3333333333333333, 0.0, 0.0, 0.0, 0.0, 0.0, 0.0, 0.0, 0.0, 0.0, 0.0, 0.0, 0.0, 0.0, 0.0, 0.0, 0.0, 0.0, 0.0, 0.0, 0.0, 0.0, 0.0, 0.0, 0.0, 0.0, 0.0, 0.0, 0.0, 0.0, 0.0, 0.0, 0.0, 0.0, 0.0, 0.0, 0.0, 0.0, 0.0, 0.0, 0.0, 0.0, 0.0, 0.0, 0.0, 0.0, 0.0, 0.0, 0.0, 0.0, 0.0], [0.3333333333333333, 0.3333333333333333, 0.3333333333333333, 0.0, 0.0, 0.0, 0.0, 0.0, 0.0, 0.0, 0.0, 0.0, 0.0, 0.0, 0.0, 0.0, 0.0, 0.0, 0.0, 0.0, 0.0, 0.0, 0.0, 0.0, 0.0, 0.0, 0.0, 0.0, 0.0, 0.0, 0.0, 0.0, 0.0, 0.0, 0.0, 0.0, 0.0, 0.0, 0.0, 0.0, 0.0, 0.0, 0.0, 0.0, 0.0, 0.0, 0.0, 0.0, 0.0, 0.0, 0.0, 0.0, 0.0]] [0.7, 0.7, 0.7, 0.7, 0.7, 0.7, 0.7, 0.7] [0.42, 0.42, 0.42, 0.42, 0.42, 0.42, 0.42, 0.42]\n",
      "ls_CRES (8, 30, 5, 5)\n",
      "ls_CBio (8, 30, 5, 5)\n",
      "parResi {'CNRESt': [16.0, 16.0, 16.0, 16.0, 16.0, 16.0, 16.0, 16.0], 'CNBio': [8.412500000000001, 8.412500000000001, 8.412500000000001, 8.412500000000001, 8.412500000000001, 8.412500000000001, 8.412500000000001, 8.412500000000001], 'KRES': [0.19125, 0.19125, 0.19125, 0.19125, 0.19125, 0.19125, 0.19125, 0.19125], 'YRES': [0.62, 0.62, 0.62, 0.62, 0.62, 0.62, 0.62, 0.62], 'KBio': [0.011, 0.011, 0.011, 0.011, 0.011, 0.011, 0.011, 0.011], 'HRES': [0.5941176470588235, 0.5941176470588235, 0.5941176470588235, 0.5941176470588235, 0.5941176470588235, 0.5941176470588235, 0.5941176470588235, 0.5941176470588235], 'TRefg': 15.0, 'FTEMHAg': 12.0, 'FTEMHg': 0.103, 'FTEMHB': 52.0}\n",
      "61\n"
     ]
    }
   ],
   "source": [
    "wheat1_name = \"wheat1\"\n",
    "wheat2_name = \"wheat2\"\n",
    "legume1_name = \"legume1\"\n",
    "legume2_name = \"legume2\"\n",
    "order = [wheat1_name, legume1_name, wheat2_name, legume2_name]\n",
    "indexer = Indexer(global_order=order, legume_names=[legume1_name, legume2_name], wheat_names=[wheat1_name, wheat2_name])\n",
    "\n",
    "generation_type = \"row\"\n",
    "plant_density = {wheat1_name: 90, wheat2_name : 450, legume1_name: 100, legume2_name : 700} # plantes.m-2\n",
    "inter_rows = 0.10 # m\n",
    "\n",
    "planter = Planter(\n",
    "    generation_type=\"row\",\n",
    "    indexer=indexer,\n",
    "    plant_density=plant_density,\n",
    "    inter_rows=inter_rows,\n",
    "    save_wheat_positions=True\n",
    ")\n",
    "\n",
    "wheat1 = Wheat_wrapper(name=wheat1_name, in_folder=\"../inputs_fspmwheat\", planter=planter, indexer=indexer)\n",
    "wheat2 = Wheat_wrapper(name=wheat2_name, in_folder=\"../inputs_fspmwheat\", planter=planter, indexer=indexer)\n",
    "legume1 = L_egume_wrapper(name=legume1_name, in_folder=\"../inputs_soil_legume\", planter=planter, indexer=indexer)\n",
    "legume2 = L_egume_wrapper(name=legume1_name, in_folder=\"../inputs_soil_legume\", planter=planter, indexer=indexer)\n",
    "legume1.derive(0)\n",
    "legume2.derive(0)\n",
    "\n",
    "legume1_scene_cm = legume1.light_inputs(lightmodel=\"caribu\")\n",
    "legume1_scene = scene_cm_tp_m(legume1_scene_cm)\n",
    "legume2_scene_cm = legume2.light_inputs(lightmodel=\"caribu\")\n",
    "legume2_scene = scene_cm_tp_m(legume2_scene_cm)\n",
    "\n",
    "scenes = [wheat1.light_inputs(planter)[0], \n",
    "          legume1_scene, \n",
    "          wheat2.light_inputs(planter)[0], \n",
    "          legume2_scene]\n",
    "final_scene = pgl.Scene()\n",
    "for i, scene in enumerate(scenes):\n",
    "    final_scene = final_scene + translate_scenes(scene, i, planter.transformations)\n"
   ]
  },
  {
   "cell_type": "code",
   "execution_count": 39,
   "id": "a3539db7",
   "metadata": {},
   "outputs": [
    {
     "data": {
      "text/plain": [
       "{'scenes unit': {0: 'm', 1: 'cm', 2: 'm', 3: 'cm'},\n",
       " 'translate': {1: (0.0, 0.1, 0.0),\n",
       "  3: (0.0, 0.30000000000000004, 0.0),\n",
       "  0: (0.0, -0.05, 0.0),\n",
       "  2: (0.0, 0.15000000000000002, 0.0)}}"
      ]
     },
     "execution_count": 39,
     "metadata": {},
     "output_type": "execute_result"
    }
   ],
   "source": [
    "planter.transformations"
   ]
  },
  {
   "cell_type": "code",
   "execution_count": 40,
   "id": "a3d91777",
   "metadata": {},
   "outputs": [
    {
     "data": {
      "application/vnd.jupyter.widget-view+json": {
       "model_id": "9bfbd77afab64bff9e36a8650680511e",
       "version_major": 2,
       "version_minor": 0
      },
      "text/plain": [
       "SceneWidget(axes_helper=True, scenes=[{'id': 'WDY2BWYshlBhGZEYONvRYj4qj', 'data': b'x\\xda\\xd5}\\txTE\\xd6v\\xd8\\x…"
      ]
     },
     "execution_count": 40,
     "metadata": {},
     "output_type": "execute_result"
    }
   ],
   "source": [
    "SceneWidget(final_scene, size_display=(600, 400), position=(-0.4, -0.4, 0.0), plane=True, size_world = 0.8, axes_helper=True)"
   ]
  },
  {
   "cell_type": "code",
   "execution_count": null,
   "id": "bdf1beda",
   "metadata": {},
   "outputs": [],
   "source": []
  }
 ],
 "metadata": {
  "kernelspec": {
   "display_name": "Python 3 (ipykernel)",
   "language": "python",
   "name": "python3"
  },
  "language_info": {
   "codemirror_mode": {
    "name": "ipython",
    "version": 3
   },
   "file_extension": ".py",
   "mimetype": "text/x-python",
   "name": "python",
   "nbconvert_exporter": "python",
   "pygments_lexer": "ipython3",
   "version": "3.8.17"
  }
 },
 "nbformat": 4,
 "nbformat_minor": 5
}
